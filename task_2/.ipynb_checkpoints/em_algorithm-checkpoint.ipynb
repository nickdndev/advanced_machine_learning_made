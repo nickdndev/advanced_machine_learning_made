{
 "cells": [
  {
   "cell_type": "code",
   "execution_count": 1,
   "metadata": {},
   "outputs": [],
   "source": [
    "import pickle\n",
    "import pandas as pd\n",
    "from datetime import timedelta, datetime\n",
    "from collections import defaultdict, Counter\n",
    "from tqdm.notebook import tqdm\n",
    "import gc\n",
    "import numpy as np\n",
    "import matplotlib.pyplot as plt\n",
    "from scipy import sparse\n",
    "from copy import copy, deepcopy\n",
    "import requests\n",
    "from sklearn.linear_model import LogisticRegression, LogisticRegressionCV\n",
    "import scipy.stats as sts\n",
    "import numpy as np\n",
    "from sklearn.linear_model import LinearRegression\n",
    "from IPython.display import Image, display"
   ]
  },
  {
   "cell_type": "code",
   "execution_count": 2,
   "metadata": {},
   "outputs": [
    {
     "data": {
      "application/javascript": [
       "\n",
       "            setTimeout(function() {\n",
       "                var nbb_cell_id = 2;\n",
       "                var nbb_unformatted_code = \"%load_ext nb_black\";\n",
       "                var nbb_formatted_code = \"%load_ext nb_black\";\n",
       "                var nbb_cells = Jupyter.notebook.get_cells();\n",
       "                for (var i = 0; i < nbb_cells.length; ++i) {\n",
       "                    if (nbb_cells[i].input_prompt_number == nbb_cell_id) {\n",
       "                        if (nbb_cells[i].get_text() == nbb_unformatted_code) {\n",
       "                             nbb_cells[i].set_text(nbb_formatted_code);\n",
       "                        }\n",
       "                        break;\n",
       "                    }\n",
       "                }\n",
       "            }, 500);\n",
       "            "
      ],
      "text/plain": [
       "<IPython.core.display.Javascript object>"
      ]
     },
     "metadata": {},
     "output_type": "display_data"
    }
   ],
   "source": [
    "%load_ext nb_black"
   ]
  },
  {
   "cell_type": "markdown",
   "metadata": {},
   "source": [
    "###  1 Dowloading and preprocessing data"
   ]
  },
  {
   "cell_type": "markdown",
   "metadata": {},
   "source": [
    "_Прочитайте и проанализируйте данные, выберите турниры, в которых есть данные о составах команд и повопросных результатах (поле mask в results.pkl). Для унификации предлагаю:\n",
    "- _взять в тренировочный набор турниры с dateStart из 2019 года;_\n",
    "- _в тестовый — турниры с dateStart из 2020 года._\n"
   ]
  },
  {
   "cell_type": "code",
   "execution_count": 2,
   "metadata": {},
   "outputs": [],
   "source": [
    "with open('chgk/players.pkl', 'rb') as f:\n",
    "    chgk_players = pickle.load(f)\n",
    "    \n",
    "with open('chgk/results.pkl', 'rb') as f:\n",
    "    results = pickle.load(f)\n",
    "    \n",
    "with open('chgk/tournaments.pkl', 'rb') as f:\n",
    "    tournaments = pickle.load(f)    "
   ]
  },
  {
   "cell_type": "code",
   "execution_count": 3,
   "metadata": {},
   "outputs": [],
   "source": [
    "def preprocess_results(results:dict,tournaments:dict,start_time:str, end_time:str):\n",
    "    allowed = {'1','0'}\n",
    "    out = []\n",
    "    start_time_date = datetime.strptime(start_time, '%Y-%m-%d')\n",
    "    end_time_date = datetime.strptime(end_time, '%Y-%m-%d')\n",
    "    \n",
    "    for key in tournaments.keys():\n",
    "        tournament_date  =  datetime.fromisoformat(tournaments[key]['dateStart']).replace(tzinfo=None)\n",
    "        \n",
    "        if tournament_date >= start_time_date and tournament_date < end_time_date:\n",
    "            \n",
    "            if not results[key] or not [team for team in results[key] if team.get('mask') is None or allowed.issuperset(team.get('mask'))] :\n",
    "                continue\n",
    "            \n",
    "            if len(set([len(team['mask']) for team in results[key] if team.get('mask') is not None])) > 1:\n",
    "                continue\n",
    "            \n",
    "            tournament = {\n",
    "                'id':tournaments[key]['id'],\n",
    "                'teams':[]\n",
    "            }\n",
    "\n",
    "            for team in results[key]:\n",
    "                if team.get('mask') is None or not allowed.issuperset(team.get('mask')):\n",
    "                    continue\n",
    "                if team['mask']:\n",
    "                    team_information = {\n",
    "                        'id': team['team']['id'],\n",
    "                        'mask': team['mask'],\n",
    "                        'players': [member['player']['id'] for member in team['teamMembers']]\n",
    "                    }\n",
    "\n",
    "                    tournament['teams'].append(team_information)\n",
    "            if tournament['teams']:       \n",
    "                out.append(tournament)  \n",
    "    return out"
   ]
  },
  {
   "cell_type": "code",
   "execution_count": 4,
   "metadata": {},
   "outputs": [],
   "source": [
    "train = preprocess_results(results,tournaments,'2019-01-01','2020-01-01')\n",
    "validation = preprocess_results(results,tournaments,'2020-01-01','2021-01-01')"
   ]
  },
  {
   "cell_type": "markdown",
   "metadata": {},
   "source": [
    "Подчистим наши данные из памяти "
   ]
  },
  {
   "cell_type": "code",
   "execution_count": 7,
   "metadata": {},
   "outputs": [
    {
     "data": {
      "text/plain": [
       "66"
      ]
     },
     "execution_count": 7,
     "metadata": {},
     "output_type": "execute_result"
    }
   ],
   "source": [
    "del results\n",
    "gc.collect()"
   ]
  },
  {
   "cell_type": "markdown",
   "metadata": {},
   "source": [
    "Проведем анализ данных “Что? Где? Когда?” (ЧГК)"
   ]
  },
  {
   "cell_type": "code",
   "execution_count": 8,
   "metadata": {},
   "outputs": [],
   "source": [
    "teams_in_tournaments = []\n",
    "questions = []\n",
    "players = defaultdict(set)\n",
    "ration_correct_answers = []\n",
    "questions = []\n",
    "questions_raito = []\n",
    "\n",
    "\n",
    "for tournament in train:\n",
    "    \n",
    "    answers_in_tournament = []\n",
    "    teams_in_tournaments.append(len(tournament['teams']))\n",
    "    \n",
    "    for team in tournament['teams']:\n",
    "        \n",
    "        for player in team['players']:\n",
    "            players[player].add(tournament['id'])\n",
    "        \n",
    "        \n",
    "        team_answers = list(map(int, team['mask']))\n",
    "        team_questions = len(team_answers)\n",
    "        correct_answers = sum(team_answers)\n",
    "        ration_correct_answers.append(sum(team_answers) / team_questions)\n",
    "        answers_in_tournament.append(team_answers)\n",
    "    \n",
    "\n",
    "    questions.append(team_questions)  \n",
    "    questions_raito += np.array(answers_in_tournament).mean(axis=0).tolist()"
   ]
  },
  {
   "cell_type": "code",
   "execution_count": 9,
   "metadata": {},
   "outputs": [
    {
     "data": {
      "text/html": [
       "<div>\n",
       "<style scoped>\n",
       "    .dataframe tbody tr th:only-of-type {\n",
       "        vertical-align: middle;\n",
       "    }\n",
       "\n",
       "    .dataframe tbody tr th {\n",
       "        vertical-align: top;\n",
       "    }\n",
       "\n",
       "    .dataframe thead th {\n",
       "        text-align: right;\n",
       "    }\n",
       "</style>\n",
       "<table border=\"1\" class=\"dataframe\">\n",
       "  <thead>\n",
       "    <tr style=\"text-align: right;\">\n",
       "      <th></th>\n",
       "      <th>Статистика команд на турнирах ЧГК</th>\n",
       "    </tr>\n",
       "  </thead>\n",
       "  <tbody>\n",
       "    <tr>\n",
       "      <th>count</th>\n",
       "      <td>604.000000</td>\n",
       "    </tr>\n",
       "    <tr>\n",
       "      <th>mean</th>\n",
       "      <td>110.231788</td>\n",
       "    </tr>\n",
       "    <tr>\n",
       "      <th>std</th>\n",
       "      <td>170.291602</td>\n",
       "    </tr>\n",
       "    <tr>\n",
       "      <th>min</th>\n",
       "      <td>1.000000</td>\n",
       "    </tr>\n",
       "    <tr>\n",
       "      <th>25%</th>\n",
       "      <td>22.000000</td>\n",
       "    </tr>\n",
       "    <tr>\n",
       "      <th>50%</th>\n",
       "      <td>44.500000</td>\n",
       "    </tr>\n",
       "    <tr>\n",
       "      <th>75%</th>\n",
       "      <td>122.500000</td>\n",
       "    </tr>\n",
       "    <tr>\n",
       "      <th>max</th>\n",
       "      <td>1218.000000</td>\n",
       "    </tr>\n",
       "  </tbody>\n",
       "</table>\n",
       "</div>"
      ],
      "text/plain": [
       "       Статистика команд на турнирах ЧГК\n",
       "count                         604.000000\n",
       "mean                          110.231788\n",
       "std                           170.291602\n",
       "min                             1.000000\n",
       "25%                            22.000000\n",
       "50%                            44.500000\n",
       "75%                           122.500000\n",
       "max                          1218.000000"
      ]
     },
     "execution_count": 9,
     "metadata": {},
     "output_type": "execute_result"
    }
   ],
   "source": [
    "pd.DataFrame(teams_in_tournaments,columns=['Статистика команд на турнирах ЧГК']).describe()"
   ]
  },
  {
   "cell_type": "code",
   "execution_count": 10,
   "metadata": {},
   "outputs": [
    {
     "data": {
      "image/png": "[encoded data removed]",
      "text/plain": [
       "<Figure size 432x288 with 1 Axes>"
      ]
     },
     "metadata": {
      "needs_background": "light"
     },
     "output_type": "display_data"
    }
   ],
   "source": [
    "plt.title('Распределение числа команд на турнирах ЧГК')\n",
    "plt.hist(teams_in_tournaments, bins=100)\n",
    "plt.xlabel('Число команд на турнире')\n",
    "plt.show()"
   ]
  },
  {
   "cell_type": "code",
   "execution_count": 11,
   "metadata": {},
   "outputs": [
    {
     "data": {
      "text/html": [
       "<div>\n",
       "<style scoped>\n",
       "    .dataframe tbody tr th:only-of-type {\n",
       "        vertical-align: middle;\n",
       "    }\n",
       "\n",
       "    .dataframe tbody tr th {\n",
       "        vertical-align: top;\n",
       "    }\n",
       "\n",
       "    .dataframe thead th {\n",
       "        text-align: right;\n",
       "    }\n",
       "</style>\n",
       "<table border=\"1\" class=\"dataframe\">\n",
       "  <thead>\n",
       "    <tr style=\"text-align: right;\">\n",
       "      <th></th>\n",
       "      <th>Вопросы ЧГК</th>\n",
       "    </tr>\n",
       "  </thead>\n",
       "  <tbody>\n",
       "    <tr>\n",
       "      <th>count</th>\n",
       "      <td>604.000000</td>\n",
       "    </tr>\n",
       "    <tr>\n",
       "      <th>mean</th>\n",
       "      <td>46.794702</td>\n",
       "    </tr>\n",
       "    <tr>\n",
       "      <th>std</th>\n",
       "      <td>29.956977</td>\n",
       "    </tr>\n",
       "    <tr>\n",
       "      <th>min</th>\n",
       "      <td>23.000000</td>\n",
       "    </tr>\n",
       "    <tr>\n",
       "      <th>25%</th>\n",
       "      <td>36.000000</td>\n",
       "    </tr>\n",
       "    <tr>\n",
       "      <th>50%</th>\n",
       "      <td>36.000000</td>\n",
       "    </tr>\n",
       "    <tr>\n",
       "      <th>75%</th>\n",
       "      <td>45.000000</td>\n",
       "    </tr>\n",
       "    <tr>\n",
       "      <th>max</th>\n",
       "      <td>500.000000</td>\n",
       "    </tr>\n",
       "  </tbody>\n",
       "</table>\n",
       "</div>"
      ],
      "text/plain": [
       "       Вопросы ЧГК\n",
       "count   604.000000\n",
       "mean     46.794702\n",
       "std      29.956977\n",
       "min      23.000000\n",
       "25%      36.000000\n",
       "50%      36.000000\n",
       "75%      45.000000\n",
       "max     500.000000"
      ]
     },
     "execution_count": 11,
     "metadata": {},
     "output_type": "execute_result"
    }
   ],
   "source": [
    "pd.DataFrame(questions,columns=['Вопросы ЧГК']).describe()"
   ]
  },
  {
   "cell_type": "code",
   "execution_count": 12,
   "metadata": {},
   "outputs": [
    {
     "data": {
      "image/png": "[encoded data removed]",
      "text/plain": [
       "<Figure size 432x288 with 1 Axes>"
      ]
     },
     "metadata": {
      "needs_background": "light"
     },
     "output_type": "display_data"
    }
   ],
   "source": [
    "plt.title('Распределение вопросов между турнирами ЧГК')\n",
    "plt.hist(questions, bins=100)\n",
    "plt.xlabel('Число вопросов')\n",
    "plt.show()"
   ]
  },
  {
   "cell_type": "code",
   "execution_count": 13,
   "metadata": {},
   "outputs": [
    {
     "data": {
      "image/png": "[encoded data removed]",
      "text/plain": [
       "<Figure size 432x288 with 1 Axes>"
      ]
     },
     "metadata": {
      "needs_background": "light"
     },
     "output_type": "display_data"
    }
   ],
   "source": [
    "plt.hist(ration_correct_answers, bins=40)\n",
    "plt.title('Доля правильных ответов для каждой игры каждой команды')\n",
    "plt.show();"
   ]
  },
  {
   "cell_type": "code",
   "execution_count": 14,
   "metadata": {},
   "outputs": [
    {
     "data": {
      "text/html": [
       "<div>\n",
       "<style scoped>\n",
       "    .dataframe tbody tr th:only-of-type {\n",
       "        vertical-align: middle;\n",
       "    }\n",
       "\n",
       "    .dataframe tbody tr th {\n",
       "        vertical-align: top;\n",
       "    }\n",
       "\n",
       "    .dataframe thead th {\n",
       "        text-align: right;\n",
       "    }\n",
       "</style>\n",
       "<table border=\"1\" class=\"dataframe\">\n",
       "  <thead>\n",
       "    <tr style=\"text-align: right;\">\n",
       "      <th></th>\n",
       "      <th>Статистики доли правильных ответов на турнирах ЧГК</th>\n",
       "    </tr>\n",
       "  </thead>\n",
       "  <tbody>\n",
       "    <tr>\n",
       "      <th>count</th>\n",
       "      <td>66580.000000</td>\n",
       "    </tr>\n",
       "    <tr>\n",
       "      <th>mean</th>\n",
       "      <td>0.428877</td>\n",
       "    </tr>\n",
       "    <tr>\n",
       "      <th>std</th>\n",
       "      <td>0.191962</td>\n",
       "    </tr>\n",
       "    <tr>\n",
       "      <th>min</th>\n",
       "      <td>0.000000</td>\n",
       "    </tr>\n",
       "    <tr>\n",
       "      <th>25%</th>\n",
       "      <td>0.277778</td>\n",
       "    </tr>\n",
       "    <tr>\n",
       "      <th>50%</th>\n",
       "      <td>0.416667</td>\n",
       "    </tr>\n",
       "    <tr>\n",
       "      <th>75%</th>\n",
       "      <td>0.566667</td>\n",
       "    </tr>\n",
       "    <tr>\n",
       "      <th>max</th>\n",
       "      <td>1.000000</td>\n",
       "    </tr>\n",
       "  </tbody>\n",
       "</table>\n",
       "</div>"
      ],
      "text/plain": [
       "       Статистики доли правильных ответов на турнирах ЧГК\n",
       "count                                       66580.000000 \n",
       "mean                                            0.428877 \n",
       "std                                             0.191962 \n",
       "min                                             0.000000 \n",
       "25%                                             0.277778 \n",
       "50%                                             0.416667 \n",
       "75%                                             0.566667 \n",
       "max                                             1.000000 "
      ]
     },
     "execution_count": 14,
     "metadata": {},
     "output_type": "execute_result"
    }
   ],
   "source": [
    "pd.DataFrame(ration_correct_answers,columns=['Статистики доли правильных ответов на турнирах ЧГК']).describe()"
   ]
  },
  {
   "cell_type": "code",
   "execution_count": 15,
   "metadata": {},
   "outputs": [],
   "source": [
    "players_answers = defaultdict(int)\n",
    "players = set()\n",
    "players_true_answers = defaultdict(int)\n",
    "\n",
    "for tournament in train:\n",
    "    for team in tournament['teams']:\n",
    "        for player in team['players']:\n",
    "            players_answers[player] += len(team['mask'])\n",
    "            players_true_answers[player] = sum(list(map(int, team['mask'])))\n",
    "            players.add(player)"
   ]
  },
  {
   "cell_type": "markdown",
   "metadata": {},
   "source": [
    "Кодируем игроков, чтобы развернуть в вектор для обучения модели"
   ]
  },
  {
   "cell_type": "code",
   "execution_count": 16,
   "metadata": {},
   "outputs": [],
   "source": [
    "player_to_index = {player:index for index, player in enumerate(players)}\n",
    "index_to_player = {index:player for player, index in player_to_index.items()}"
   ]
  },
  {
   "cell_type": "markdown",
   "metadata": {},
   "source": [
    "### 2 Baseline \n",
    "_Постройте baseline-модель на основе линейной или логистической регрессии, которая будет обучать рейтинг-лист игроков. Замечания и подсказки:_\n",
    "- _повопросные результаты — это фактически результаты броска монетки, и их предсказание скорее всего имеет отношение к бинарной классификации;_\n",
    "- _в разных турнирах вопросы совсем разного уровня сложности, поэтому модель должна это учитывать; скорее всего, модель должна будет явно обучать не только силу каждого игрока, но и сложность каждого вопроса;_\n",
    "- _для baseline-модели можно забыть о командах и считать, что повопросные результаты команды просто относятся к каждому из её игроков._\n"
   ]
  },
  {
   "cell_type": "markdown",
   "metadata": {},
   "source": [
    "Кодируем юзеров и  вопросы турниров ЧГК (one hot) и вытягиваем в вектор. В качестве ответов для модели будем использовать ответы игроков на вопросы. Так как у нас в бинарый ответ(target), то мы будем использовать модель классификации (LogisticRegression)  для Baseline решения. \n",
    "Для оценки силы игроков будем использовать коэфициенты модели"
   ]
  },
  {
   "cell_type": "code",
   "execution_count": 82,
   "metadata": {},
   "outputs": [
    {
     "data": {
      "image/jpeg": "[encoded data removed]",
      "text/plain": [
       "<IPython.core.display.Image object>"
      ]
     },
     "metadata": {},
     "output_type": "display_data"
    }
   ],
   "source": [
    "display(Image(filename='images/image_1.jpg', embed=True))"
   ]
  },
  {
   "cell_type": "code",
   "execution_count": 64,
   "metadata": {},
   "outputs": [],
   "source": [
    "team_ids = []\n",
    "question_idxs = []\n",
    "answers_target = []\n",
    "player_questions_count = []\n",
    "players_idxs =[]\n",
    "\n",
    "questions_count = 0\n",
    "for tournament in train:\n",
    "    tournament_questions = len(tournament['teams'][0]['mask'])\n",
    "    for team in tournament['teams']:\n",
    "        team_answers = list(map(int, team['mask']))\n",
    "        for question in range(tournament_questions):\n",
    "            for player in team['players']:\n",
    "                players_idxs.append(player_to_index[player])\n",
    "                question_idxs.append(len(player_to_index) + questions_count + question)\n",
    "                team_ids.append(team['id'])\n",
    "                answers_target.append(team_answers[question])\n",
    "    questions_count += tournament_questions\n",
    "    \n",
    "shape_matrix_columns , shape_matrix_rows = len(players_idxs) + questions_count , len(players_idxs)\n",
    "X = sparse.lil_matrix((shape_matrix_rows, shape_matrix_columns),  dtype=int)\n",
    "\n",
    "# set init value \n",
    "X[range(len(players_idxs)), players_idxs] = 1\n",
    "X[range(len(players_idxs)), question_idxs] = 1\n",
    "\n",
    "_, dim1 = X.shape \n",
    "\n",
    "y = np.array(answers_target)"
   ]
  },
  {
   "cell_type": "code",
   "execution_count": 18,
   "metadata": {},
   "outputs": [],
   "source": [
    "log_regression_model = LogisticRegression(tol=1e-2, solver='saga',n_jobs=-1)"
   ]
  },
  {
   "cell_type": "code",
   "execution_count": 19,
   "metadata": {},
   "outputs": [
    {
     "data": {
      "text/plain": [
       "LogisticRegression(n_jobs=-1, solver='saga', tol=0.01)"
      ]
     },
     "execution_count": 19,
     "metadata": {},
     "output_type": "execute_result"
    }
   ],
   "source": [
    "log_regression_model.fit(X, y)"
   ]
  },
  {
   "cell_type": "code",
   "execution_count": 20,
   "metadata": {},
   "outputs": [],
   "source": [
    "player_powers = log_regression_model.coef_[0]"
   ]
  },
  {
   "cell_type": "code",
   "execution_count": 21,
   "metadata": {},
   "outputs": [],
   "source": [
    "question_rating = player_powers[len(player_to_index):]\n",
    "rating = player_powers[:len(player_to_index)]\n",
    "players_raiting = []\n",
    "for index, player in index_to_player.items():\n",
    "    players_raiting.append({\n",
    "        'id': player,\n",
    "        'power': rating[index],\n",
    "        'name': chgk_players[player]['name'] + ' ' + chgk_players[player]['surname'],\n",
    "        'questions': players_answers[player],\n",
    "    })\n",
    "    \n",
    "players_raiting = sorted(players_raiting, key=lambda x: x['power'], reverse=True)"
   ]
  },
  {
   "cell_type": "code",
   "execution_count": 22,
   "metadata": {},
   "outputs": [],
   "source": [
    "def player_position(player_id):\n",
    "    try:\n",
    "        return int(requests.get(f'https://rating.chgk.info/api/players/{player_id}/rating/last').json()['rating_position'])\n",
    "    except Exception:\n",
    "        return -100"
   ]
  },
  {
   "cell_type": "code",
   "execution_count": 51,
   "metadata": {},
   "outputs": [
    {
     "data": {
      "text/html": [
       "<div>\n",
       "<style scoped>\n",
       "    .dataframe tbody tr th:only-of-type {\n",
       "        vertical-align: middle;\n",
       "    }\n",
       "\n",
       "    .dataframe tbody tr th {\n",
       "        vertical-align: top;\n",
       "    }\n",
       "\n",
       "    .dataframe thead th {\n",
       "        text-align: right;\n",
       "    }\n",
       "</style>\n",
       "<table border=\"1\" class=\"dataframe\">\n",
       "  <thead>\n",
       "    <tr style=\"text-align: right;\">\n",
       "      <th></th>\n",
       "      <th>id</th>\n",
       "      <th>power</th>\n",
       "      <th>name</th>\n",
       "      <th>questions</th>\n",
       "      <th>player_position</th>\n",
       "    </tr>\n",
       "  </thead>\n",
       "  <tbody>\n",
       "    <tr>\n",
       "      <th>0</th>\n",
       "      <td>27403</td>\n",
       "      <td>4.068340</td>\n",
       "      <td>Максим Руссо</td>\n",
       "      <td>1796</td>\n",
       "      <td>5</td>\n",
       "    </tr>\n",
       "    <tr>\n",
       "      <th>1</th>\n",
       "      <td>4270</td>\n",
       "      <td>3.932395</td>\n",
       "      <td>Александра Брутер</td>\n",
       "      <td>2240</td>\n",
       "      <td>6</td>\n",
       "    </tr>\n",
       "    <tr>\n",
       "      <th>2</th>\n",
       "      <td>28751</td>\n",
       "      <td>3.885699</td>\n",
       "      <td>Иван Семушин</td>\n",
       "      <td>3071</td>\n",
       "      <td>3</td>\n",
       "    </tr>\n",
       "    <tr>\n",
       "      <th>3</th>\n",
       "      <td>27822</td>\n",
       "      <td>3.852908</td>\n",
       "      <td>Михаил Савченков</td>\n",
       "      <td>2666</td>\n",
       "      <td>2</td>\n",
       "    </tr>\n",
       "    <tr>\n",
       "      <th>4</th>\n",
       "      <td>30270</td>\n",
       "      <td>3.758144</td>\n",
       "      <td>Сергей Спешков</td>\n",
       "      <td>3017</td>\n",
       "      <td>4</td>\n",
       "    </tr>\n",
       "    <tr>\n",
       "      <th>5</th>\n",
       "      <td>30152</td>\n",
       "      <td>3.753011</td>\n",
       "      <td>Артём Сорожкин</td>\n",
       "      <td>4006</td>\n",
       "      <td>1</td>\n",
       "    </tr>\n",
       "    <tr>\n",
       "      <th>6</th>\n",
       "      <td>18036</td>\n",
       "      <td>3.619152</td>\n",
       "      <td>Михаил Левандовский</td>\n",
       "      <td>1113</td>\n",
       "      <td>8</td>\n",
       "    </tr>\n",
       "    <tr>\n",
       "      <th>7</th>\n",
       "      <td>20691</td>\n",
       "      <td>3.614247</td>\n",
       "      <td>Станислав Мереминский</td>\n",
       "      <td>1370</td>\n",
       "      <td>38</td>\n",
       "    </tr>\n",
       "    <tr>\n",
       "      <th>8</th>\n",
       "      <td>87637</td>\n",
       "      <td>3.542323</td>\n",
       "      <td>Антон Саксонов</td>\n",
       "      <td>927</td>\n",
       "      <td>158</td>\n",
       "    </tr>\n",
       "    <tr>\n",
       "      <th>9</th>\n",
       "      <td>22799</td>\n",
       "      <td>3.539431</td>\n",
       "      <td>Сергей Николенко</td>\n",
       "      <td>1806</td>\n",
       "      <td>10</td>\n",
       "    </tr>\n",
       "    <tr>\n",
       "      <th>10</th>\n",
       "      <td>26089</td>\n",
       "      <td>3.534681</td>\n",
       "      <td>Ирина Прокофьева</td>\n",
       "      <td>652</td>\n",
       "      <td>65</td>\n",
       "    </tr>\n",
       "    <tr>\n",
       "      <th>11</th>\n",
       "      <td>22935</td>\n",
       "      <td>3.517660</td>\n",
       "      <td>Илья Новиков</td>\n",
       "      <td>1266</td>\n",
       "      <td>132</td>\n",
       "    </tr>\n",
       "    <tr>\n",
       "      <th>12</th>\n",
       "      <td>21698</td>\n",
       "      <td>3.508388</td>\n",
       "      <td>Александр Мосягин</td>\n",
       "      <td>838</td>\n",
       "      <td>146</td>\n",
       "    </tr>\n",
       "    <tr>\n",
       "      <th>13</th>\n",
       "      <td>18332</td>\n",
       "      <td>3.496925</td>\n",
       "      <td>Александр Либер</td>\n",
       "      <td>2937</td>\n",
       "      <td>7</td>\n",
       "    </tr>\n",
       "    <tr>\n",
       "      <th>14</th>\n",
       "      <td>74001</td>\n",
       "      <td>3.490869</td>\n",
       "      <td>Игорь Мокин</td>\n",
       "      <td>900</td>\n",
       "      <td>74</td>\n",
       "    </tr>\n",
       "    <tr>\n",
       "      <th>15</th>\n",
       "      <td>56647</td>\n",
       "      <td>3.479929</td>\n",
       "      <td>Наталья Горелова</td>\n",
       "      <td>1769</td>\n",
       "      <td>349</td>\n",
       "    </tr>\n",
       "    <tr>\n",
       "      <th>16</th>\n",
       "      <td>37047</td>\n",
       "      <td>3.458254</td>\n",
       "      <td>Мария Юнгер</td>\n",
       "      <td>452</td>\n",
       "      <td>589</td>\n",
       "    </tr>\n",
       "    <tr>\n",
       "      <th>17</th>\n",
       "      <td>13689</td>\n",
       "      <td>3.452775</td>\n",
       "      <td>Дмитрий Карякин</td>\n",
       "      <td>1097</td>\n",
       "      <td>27</td>\n",
       "    </tr>\n",
       "    <tr>\n",
       "      <th>18</th>\n",
       "      <td>16837</td>\n",
       "      <td>3.438642</td>\n",
       "      <td>Наталья Кудряшова</td>\n",
       "      <td>2147</td>\n",
       "      <td>23</td>\n",
       "    </tr>\n",
       "    <tr>\n",
       "      <th>19</th>\n",
       "      <td>24384</td>\n",
       "      <td>3.435107</td>\n",
       "      <td>Евгений Пашковский</td>\n",
       "      <td>1224</td>\n",
       "      <td>115</td>\n",
       "    </tr>\n",
       "  </tbody>\n",
       "</table>\n",
       "</div>"
      ],
      "text/plain": [
       "       id     power                   name  questions  player_position\n",
       "0   27403  4.068340           Максим Руссо       1796                5\n",
       "1    4270  3.932395      Александра Брутер       2240                6\n",
       "2   28751  3.885699           Иван Семушин       3071                3\n",
       "3   27822  3.852908       Михаил Савченков       2666                2\n",
       "4   30270  3.758144         Сергей Спешков       3017                4\n",
       "5   30152  3.753011         Артём Сорожкин       4006                1\n",
       "6   18036  3.619152    Михаил Левандовский       1113                8\n",
       "7   20691  3.614247  Станислав Мереминский       1370               38\n",
       "8   87637  3.542323         Антон Саксонов        927              158\n",
       "9   22799  3.539431       Сергей Николенко       1806               10\n",
       "10  26089  3.534681       Ирина Прокофьева        652               65\n",
       "11  22935  3.517660           Илья Новиков       1266              132\n",
       "12  21698  3.508388      Александр Мосягин        838              146\n",
       "13  18332  3.496925        Александр Либер       2937                7\n",
       "14  74001  3.490869            Игорь Мокин        900               74\n",
       "15  56647  3.479929       Наталья Горелова       1769              349\n",
       "16  37047  3.458254            Мария Юнгер        452              589\n",
       "17  13689  3.452775        Дмитрий Карякин       1097               27\n",
       "18  16837  3.438642      Наталья Кудряшова       2147               23\n",
       "19  24384  3.435107     Евгений Пашковский       1224              115"
      ]
     },
     "execution_count": 51,
     "metadata": {},
     "output_type": "execute_result"
    }
   ],
   "source": [
    "rating_score_df = pd.DataFrame(players_raiting)[:60]\n",
    "rating_score_df['player_position'] = rating_score_df['id'].apply(player_position)\n",
    "rating_score_df['questions'] = rating_score_df['id'].apply(lambda x: players_answers[x])\n",
    "rating_score_df.head(20)"
   ]
  },
  {
   "cell_type": "code",
   "execution_count": 53,
   "metadata": {},
   "outputs": [
    {
     "data": {
      "text/plain": [
       "32"
      ]
     },
     "execution_count": 53,
     "metadata": {},
     "output_type": "execute_result"
    }
   ],
   "source": [
    "intersection = rating_score_df[rating_score_df['player_position'] <= 60]\n",
    "intersection.shape[0]"
   ]
  },
  {
   "cell_type": "markdown",
   "metadata": {},
   "source": [
    "Baseline модель опеделила 32 игрока ЧГК из top-60, что есть неплохо :) "
   ]
  },
  {
   "cell_type": "markdown",
   "metadata": {},
   "source": [
    "### 3 Quality of the rating system\n",
    "_Качество рейтинг-системы оценивается качеством предсказаний результатов турниров. Но сами повопросные результаты наши модели предсказывать вряд ли смогут, ведь неизвестно, насколько сложными окажутся вопросы в будущих турнирах; да и не нужны эти предсказания сами по себе. Поэтому:_\n",
    "- _предложите способ предсказать результаты нового турнира с известными составами, но неизвестными вопросами, в виде ранжирования команд;_\n",
    "- _в качестве метрики качества на тестовом наборе давайте считать ранговые корреляции Спирмена и Кендалла (их можно взять в пакете scipy) между реальным ранжированием в результатах турнира и предсказанным моделью, усреднённые по тестовому множеству турниров._\n"
   ]
  },
  {
   "cell_type": "code",
   "execution_count": 34,
   "metadata": {},
   "outputs": [
    {
     "data": {
      "image/jpeg": "[encoded data removed]",
      "text/plain": [
       "<IPython.core.display.Image object>"
      ]
     },
     "metadata": {},
     "output_type": "display_data"
    }
   ],
   "source": [
    "display(Image(filename='images/image_2.jpg', embed=True))"
   ]
  },
  {
   "cell_type": "markdown",
   "metadata": {},
   "source": [
    "Для оценки качетва райтинг системы будем прогнозировать ответ вопроса (автрактного) с учетом ответа каждого игрока в команде"
   ]
  },
  {
   "cell_type": "code",
   "execution_count": 25,
   "metadata": {},
   "outputs": [],
   "source": [
    "validation_rating = []\n",
    "tournaments_validation = []\n",
    "\n",
    "for tournament in validation:\n",
    "    teams_validation = []\n",
    "    teams_rating = []\n",
    "    for team in tournament['teams']:\n",
    "  \n",
    "        players = [p for p in team['players'] if p in player_to_index.keys()]\n",
    "        team_test = copy(team)\n",
    "        team_test['players'] = players\n",
    "        \n",
    "        if len(players) > 0:\n",
    "            teams_validation.append(team_test)\n",
    "            teams_rating.append(sum(list(map(int, team['mask']))))\n",
    "     \n",
    "    if len(teams_validation) > 1:\n",
    "        tournament_val = copy(tournament)\n",
    "        tournament_val['teams'] = teams_validation\n",
    "        tournaments_validation.append(tournament_val)\n",
    "        validation_rating.append(teams_rating)"
   ]
  },
  {
   "cell_type": "code",
   "execution_count": 26,
   "metadata": {},
   "outputs": [],
   "source": [
    "def predict_tournaments(model, tournaments, player_to_index):\n",
    "    rating_predictions = []\n",
    "    for torunament in tournaments:\n",
    "        predictions = []\n",
    "        for team in torunament['teams']:\n",
    "            player_idxs = [player_to_index[p] for p in team['players']]\n",
    "            player_number = len(player_idxs)\n",
    "            \n",
    "            X = sparse.lil_matrix((len(player_idxs), dim1), dtype=int)\n",
    "            X[range(len(player_idxs)), player_idxs] = 1\n",
    "            \n",
    "            predictions.append(1 - model.predict_proba(X)[:, 0].prod())\n",
    "\n",
    "        rating_predictions.append(predictions)\n",
    "    return rating_predictions"
   ]
  },
  {
   "cell_type": "code",
   "execution_count": 27,
   "metadata": {},
   "outputs": [],
   "source": [
    "def calculate_spearman_correlations(target, predict):\n",
    "    output = []\n",
    "    for i in range(len(target)):\n",
    "        spearman = sts.spearmanr(target[i], predict[i]).correlation\n",
    "        output.append(spearman)\n",
    "    return np.mean(output)\n",
    "        \n",
    "def calculate_kendall_correlations(target, predict):\n",
    "    output = []\n",
    "    for i in range(len(target)):\n",
    "        kendall = sts.kendalltau(target[i], predict[i]).correlation\n",
    "        output.append(kendall)\n",
    "    return np.mean(output)    "
   ]
  },
  {
   "cell_type": "code",
   "execution_count": 28,
   "metadata": {},
   "outputs": [
    {
     "name": "stdout",
     "output_type": "stream",
     "text": [
      "Spearman correlation : 0.8024169662590201\n",
      "Kendall correlation : 0.64464491999789\n"
     ]
    }
   ],
   "source": [
    "reting_prediction = predict_tournaments(log_regression_model,tournaments_validation, player_to_index)\n",
    "\n",
    "spearman_correlation = calculate_spearman_correlations(validation_rating, reting_prediction)\n",
    "kendall_correlation = calculate_kendall_correlations(validation_rating, reting_prediction)\n",
    "\n",
    "print(f'Spearman correlation : {spearman_correlation}\\nKendall correlation : {kendall_correlation}')"
   ]
  },
  {
   "cell_type": "markdown",
   "metadata": {},
   "source": [
    "### 4 EM algorithm\n",
    "Теперь главное: ЧГК — это всё-таки командная игра. Поэтому:\n",
    "- предложите способ учитывать то, что на вопрос отвечают сразу несколько игроков; скорее всего, понадобятся скрытые переменные; не стесняйтесь делать упрощающие предположения, но теперь переменные “игрок X ответил на вопрос Y” при условии данных должны стать зависимыми для игроков одной и той же команды;\n",
    "- разработайте EM-схему для обучения этой модели, реализуйте её в коде;\n",
    "- обучите несколько итераций, убедитесь, что целевые метрики со временем растут (скорее всего, ненамного, но расти должны), выберите лучшую модель, используя целевые метрики.\n"
   ]
  },
  {
   "cell_type": "code",
   "execution_count": 41,
   "metadata": {},
   "outputs": [
    {
     "data": {
      "image/jpeg": "[encoded data removed]",
      "text/plain": [
       "<IPython.core.display.Image object>"
      ]
     },
     "metadata": {},
     "output_type": "display_data"
    }
   ],
   "source": [
    "display(Image(filename='images/image_3.jpg', embed=True))"
   ]
  },
  {
   "cell_type": "markdown",
   "metadata": {},
   "source": [
    "На шаге Е мы предсказываем вероятность каждого игрока на определенный вопрос при условии команды и это будут скрытые переменные EM алгоритма.  На шаге M обучаем модель на скрытых параметрах.\n",
    "Для обучения вероятностей воспользуемся LinearRegression и немного преобразуем модель , чтобы значения лежали между 0 и 1 y ∈ (0,1). На [stackoverflow](https://stackoverflow.com/questions/44234682/how-to-use-sklearn-when-target-variable-is-a-proportion) есть отличный пост как обучать такие модели и попробуем воспользоваться советами из этого поста."
   ]
  },
  {
   "cell_type": "code",
   "execution_count": 29,
   "metadata": {},
   "outputs": [],
   "source": [
    "class ProbabilityLogitRegression(LinearRegression):\n",
    "\n",
    "    def fit(self, x, p):\n",
    "        p = np.asarray(p)\n",
    "        y = np.log(p /(1 - p))\n",
    "        return super().fit(x, y)\n",
    "\n",
    "    def predict(self, x):\n",
    "        y = super().predict(x)\n",
    "        return 1 / (np.exp(-y) + 1)\n",
    "    def predict_proba(self, x):\n",
    "        y = super().predict(x)\n",
    "        y = 1 / (np.exp(-y) + 1)\n",
    "        return np.hstack(((1 - y).reshape(-1, 1), y.reshape(-1, 1)))"
   ]
  },
  {
   "cell_type": "code",
   "execution_count": 30,
   "metadata": {},
   "outputs": [],
   "source": [
    "EPS = 1e-5\n",
    "\n",
    "def e_step(X, model):\n",
    "    prediction = model.predict_proba(X)\n",
    "  \n",
    "    playes_df = pd.DataFrame({'team': team_ids, 'question': question_idxs, 'player_fail_proba': prediction[:, 0], 'player_success_proba': prediction[:, 1]})\n",
    "    \n",
    "    team_df = playes_df.groupby(['team', 'question']).agg({'player_fail_proba': np.prod}).reset_index()\n",
    "    team_df.rename(columns={'player_fail_proba':'team_fail_proba'}, inplace=True)\n",
    "    team_df['team_success_proba'] = 1 - team_df['team_fail_proba']\n",
    "    team_df  = team_df[['team','question','team_success_proba']]\n",
    "    \n",
    "    playes_df = pd.merge(playes_df, team_df, left_on=['team', 'question'],  right_on=['team', 'question'])\n",
    "    \n",
    "    z = (playes_df['player_success_proba'] / playes_df['team_success_proba']).clip(EPS, 1-EPS)\n",
    "    z[y == 0] = EPS\n",
    "    \n",
    "    return z\n",
    "\n",
    "def m_step(X,z,model):\n",
    "    model.fit(X,z)"
   ]
  },
  {
   "cell_type": "markdown",
   "metadata": {},
   "source": [
    "Зададим начальное состояние EM алгоритма, подготовим наши правильные ответы (бинарные ответы) для регрессии y ∈ (0,1) и обучим модель"
   ]
  },
  {
   "cell_type": "code",
   "execution_count": 31,
   "metadata": {},
   "outputs": [
    {
     "data": {
      "text/plain": [
       "ProbabilityLogitRegression(n_jobs=-1)"
      ]
     },
     "execution_count": 31,
     "metadata": {},
     "output_type": "execute_result"
    }
   ],
   "source": [
    "model = ProbabilityLogitRegression(n_jobs=-1)\n",
    "\n",
    "#подготовим наши правильные ответы (бинарные ответы) для регрессии y ∈ (0,1)\n",
    "y_eps = y.astype(np.float32)\n",
    "y_eps[y_eps==0.] = EPS\n",
    "y_eps[y_eps==1.] = 1-EPS\n",
    "\n",
    "#обучим модель\n",
    "model.fit(X, y_eps)\n"
   ]
  },
  {
   "cell_type": "code",
   "execution_count": 32,
   "metadata": {},
   "outputs": [
    {
     "name": "stdout",
     "output_type": "stream",
     "text": [
      "Spearman correlation : 0.8005975155553602\n",
      "Kendall correlation : 0.640747490124936\n"
     ]
    }
   ],
   "source": [
    "reting_prediction = predict_tournaments(model,tournaments_validation, player_to_index)\n",
    "\n",
    "spearman_correlation = calculate_spearman_correlations(validation_rating, reting_prediction)\n",
    "kendall_correlation = calculate_kendall_correlations(validation_rating, reting_prediction)\n",
    "\n",
    "print(f'Spearman correlation : {spearman_correlation}\\nKendall correlation : {kendall_correlation}')"
   ]
  },
  {
   "cell_type": "code",
   "execution_count": 33,
   "metadata": {},
   "outputs": [
    {
     "name": "stdout",
     "output_type": "stream",
     "text": [
      "Step : 1\n",
      "Spearman correlation : 0.8001105177971716\n",
      "Kendall correlation : 0.6430020064571214\n",
      "\n",
      "Step : 2\n",
      "Spearman correlation : 0.80607217344991\n",
      "Kendall correlation : 0.6500412854150835\n",
      "\n",
      "Step : 3\n",
      "Spearman correlation : 0.8103635254287054\n",
      "Kendall correlation : 0.6553494633296175\n",
      "\n",
      "Step : 4\n",
      "Spearman correlation : 0.8085868311835952\n",
      "Kendall correlation : 0.6532591170251093\n",
      "\n",
      "Step : 5\n",
      "Spearman correlation : 0.8092169625942536\n",
      "Kendall correlation : 0.6537609171520469\n",
      "\n",
      "Step : 6\n",
      "Spearman correlation : 0.8097843352127951\n",
      "Kendall correlation : 0.6544676798961447\n",
      "\n",
      "Step : 7\n",
      "Spearman correlation : 0.809753379484255\n",
      "Kendall correlation : 0.654624054142814\n",
      "\n",
      "Step : 8\n",
      "Spearman correlation : 0.8092023881596568\n",
      "Kendall correlation : 0.6540510480491422\n",
      "\n",
      "Step : 9\n",
      "Spearman correlation : 0.8090364911704798\n",
      "Kendall correlation : 0.6538012071142852\n",
      "\n",
      "Step : 10\n",
      "Spearman correlation : 0.809024445627744\n",
      "Kendall correlation : 0.6537515586648184\n",
      "\n"
     ]
    }
   ],
   "source": [
    "for step in range(10):\n",
    "    \n",
    "    print(f'Step : {step + 1}')\n",
    "    \n",
    "    z = e_step(X, model)\n",
    "    \n",
    "    m_step(X,z,model)\n",
    "    \n",
    "    reting_prediction = predict_tournaments(model,tournaments_validation, player_to_index)\n",
    "    \n",
    "    spearman_correlation = calculate_spearman_correlations(validation_rating,reting_prediction)\n",
    "    kendall_correlation = calculate_kendall_correlations(validation_rating, reting_prediction)\n",
    "\n",
    "    print(f'Spearman correlation : {spearman_correlation}\\nKendall correlation : {kendall_correlation}\\n')"
   ]
  },
  {
   "cell_type": "code",
   "execution_count": 54,
   "metadata": {},
   "outputs": [],
   "source": [
    "question_rating = model.coef_[len(player_to_index):]\n",
    "rating = model.coef_[:len(player_to_index):]\n",
    "rating_em = []\n",
    "for idx, player in index_to_player.items():\n",
    "    rating_em.append({\n",
    "        'power': rating[idx],\n",
    "        'id': player,\n",
    "        'name': chgk_players[player]['name'] + ' ' + chgk_players[player]['surname'],\n",
    "        'questions': players_answers[player],\n",
    "    })\n",
    "    \n",
    "rating_em = sorted(rating_em, key=lambda x: x['power'], reverse=True)"
   ]
  },
  {
   "cell_type": "code",
   "execution_count": 55,
   "metadata": {},
   "outputs": [
    {
     "data": {
      "text/html": [
       "<div>\n",
       "<style scoped>\n",
       "    .dataframe tbody tr th:only-of-type {\n",
       "        vertical-align: middle;\n",
       "    }\n",
       "\n",
       "    .dataframe tbody tr th {\n",
       "        vertical-align: top;\n",
       "    }\n",
       "\n",
       "    .dataframe thead th {\n",
       "        text-align: right;\n",
       "    }\n",
       "</style>\n",
       "<table border=\"1\" class=\"dataframe\">\n",
       "  <thead>\n",
       "    <tr style=\"text-align: right;\">\n",
       "      <th></th>\n",
       "      <th>power</th>\n",
       "      <th>id</th>\n",
       "      <th>name</th>\n",
       "      <th>questions</th>\n",
       "      <th>player_position</th>\n",
       "    </tr>\n",
       "  </thead>\n",
       "  <tbody>\n",
       "    <tr>\n",
       "      <th>0</th>\n",
       "      <td>14.990128</td>\n",
       "      <td>38175</td>\n",
       "      <td>Максим Пилипенко</td>\n",
       "      <td>36</td>\n",
       "      <td>9953</td>\n",
       "    </tr>\n",
       "    <tr>\n",
       "      <th>1</th>\n",
       "      <td>14.588536</td>\n",
       "      <td>199963</td>\n",
       "      <td>Елена Бровченко</td>\n",
       "      <td>36</td>\n",
       "      <td>-100</td>\n",
       "    </tr>\n",
       "    <tr>\n",
       "      <th>2</th>\n",
       "      <td>13.782788</td>\n",
       "      <td>135951</td>\n",
       "      <td>Артём Стетой</td>\n",
       "      <td>36</td>\n",
       "      <td>-100</td>\n",
       "    </tr>\n",
       "    <tr>\n",
       "      <th>3</th>\n",
       "      <td>13.528362</td>\n",
       "      <td>133504</td>\n",
       "      <td>София Лебедева</td>\n",
       "      <td>36</td>\n",
       "      <td>-100</td>\n",
       "    </tr>\n",
       "    <tr>\n",
       "      <th>4</th>\n",
       "      <td>13.442243</td>\n",
       "      <td>121433</td>\n",
       "      <td>София Савенко</td>\n",
       "      <td>36</td>\n",
       "      <td>20735</td>\n",
       "    </tr>\n",
       "    <tr>\n",
       "      <th>5</th>\n",
       "      <td>13.204534</td>\n",
       "      <td>100134</td>\n",
       "      <td>Алина Бауэр</td>\n",
       "      <td>36</td>\n",
       "      <td>8124</td>\n",
       "    </tr>\n",
       "    <tr>\n",
       "      <th>6</th>\n",
       "      <td>12.938721</td>\n",
       "      <td>14996</td>\n",
       "      <td>Ольга Козлова</td>\n",
       "      <td>36</td>\n",
       "      <td>14904</td>\n",
       "    </tr>\n",
       "    <tr>\n",
       "      <th>7</th>\n",
       "      <td>11.896983</td>\n",
       "      <td>163668</td>\n",
       "      <td>Георгий Титов</td>\n",
       "      <td>36</td>\n",
       "      <td>-100</td>\n",
       "    </tr>\n",
       "    <tr>\n",
       "      <th>8</th>\n",
       "      <td>11.783121</td>\n",
       "      <td>54509</td>\n",
       "      <td>Святослав Маленький</td>\n",
       "      <td>36</td>\n",
       "      <td>6690</td>\n",
       "    </tr>\n",
       "    <tr>\n",
       "      <th>9</th>\n",
       "      <td>11.769404</td>\n",
       "      <td>22474</td>\n",
       "      <td>Илья Немец</td>\n",
       "      <td>75</td>\n",
       "      <td>4475</td>\n",
       "    </tr>\n",
       "    <tr>\n",
       "      <th>10</th>\n",
       "      <td>11.490356</td>\n",
       "      <td>4876</td>\n",
       "      <td>Владимир Вакуленко</td>\n",
       "      <td>36</td>\n",
       "      <td>-100</td>\n",
       "    </tr>\n",
       "    <tr>\n",
       "      <th>11</th>\n",
       "      <td>11.367182</td>\n",
       "      <td>55044</td>\n",
       "      <td>Светлана Гусарова</td>\n",
       "      <td>111</td>\n",
       "      <td>10416</td>\n",
       "    </tr>\n",
       "    <tr>\n",
       "      <th>12</th>\n",
       "      <td>11.364763</td>\n",
       "      <td>202410</td>\n",
       "      <td>Валентина Подюкова</td>\n",
       "      <td>36</td>\n",
       "      <td>-100</td>\n",
       "    </tr>\n",
       "    <tr>\n",
       "      <th>13</th>\n",
       "      <td>11.079970</td>\n",
       "      <td>190786</td>\n",
       "      <td>Татьяна Дианова</td>\n",
       "      <td>36</td>\n",
       "      <td>-100</td>\n",
       "    </tr>\n",
       "    <tr>\n",
       "      <th>14</th>\n",
       "      <td>11.020920</td>\n",
       "      <td>15723</td>\n",
       "      <td>Александр Корнюков</td>\n",
       "      <td>45</td>\n",
       "      <td>16463</td>\n",
       "    </tr>\n",
       "    <tr>\n",
       "      <th>15</th>\n",
       "      <td>10.942506</td>\n",
       "      <td>123750</td>\n",
       "      <td>Сергей Завьялов</td>\n",
       "      <td>36</td>\n",
       "      <td>19674</td>\n",
       "    </tr>\n",
       "    <tr>\n",
       "      <th>16</th>\n",
       "      <td>10.794268</td>\n",
       "      <td>212666</td>\n",
       "      <td>Анна Печёнкина</td>\n",
       "      <td>72</td>\n",
       "      <td>14256</td>\n",
       "    </tr>\n",
       "    <tr>\n",
       "      <th>17</th>\n",
       "      <td>10.677400</td>\n",
       "      <td>172817</td>\n",
       "      <td>Яна Носкова</td>\n",
       "      <td>36</td>\n",
       "      <td>9468</td>\n",
       "    </tr>\n",
       "    <tr>\n",
       "      <th>18</th>\n",
       "      <td>10.371502</td>\n",
       "      <td>21428</td>\n",
       "      <td>Вадим Молдавский</td>\n",
       "      <td>72</td>\n",
       "      <td>5726</td>\n",
       "    </tr>\n",
       "    <tr>\n",
       "      <th>19</th>\n",
       "      <td>10.265362</td>\n",
       "      <td>95233</td>\n",
       "      <td>Сергей Короткий</td>\n",
       "      <td>45</td>\n",
       "      <td>-100</td>\n",
       "    </tr>\n",
       "  </tbody>\n",
       "</table>\n",
       "</div>"
      ],
      "text/plain": [
       "        power      id                 name  questions  player_position\n",
       "0   14.990128   38175     Максим Пилипенко         36             9953\n",
       "1   14.588536  199963      Елена Бровченко         36             -100\n",
       "2   13.782788  135951         Артём Стетой         36             -100\n",
       "3   13.528362  133504       София Лебедева         36             -100\n",
       "4   13.442243  121433        София Савенко         36            20735\n",
       "5   13.204534  100134          Алина Бауэр         36             8124\n",
       "6   12.938721   14996        Ольга Козлова         36            14904\n",
       "7   11.896983  163668        Георгий Титов         36             -100\n",
       "8   11.783121   54509  Святослав Маленький         36             6690\n",
       "9   11.769404   22474           Илья Немец         75             4475\n",
       "10  11.490356    4876   Владимир Вакуленко         36             -100\n",
       "11  11.367182   55044    Светлана Гусарова        111            10416\n",
       "12  11.364763  202410   Валентина Подюкова         36             -100\n",
       "13  11.079970  190786      Татьяна Дианова         36             -100\n",
       "14  11.020920   15723   Александр Корнюков         45            16463\n",
       "15  10.942506  123750      Сергей Завьялов         36            19674\n",
       "16  10.794268  212666       Анна Печёнкина         72            14256\n",
       "17  10.677400  172817          Яна Носкова         36             9468\n",
       "18  10.371502   21428     Вадим Молдавский         72             5726\n",
       "19  10.265362   95233      Сергей Короткий         45             -100"
      ]
     },
     "execution_count": 55,
     "metadata": {},
     "output_type": "execute_result"
    }
   ],
   "source": [
    "rating_em_df = pd.DataFrame(rating_em)[:60]\n",
    "rating_em_df['player_position'] = rating_em_df['id'].apply(player_position)\n",
    "rating_em_df['questions'] = rating_em_df['id'].apply(lambda x: players_answers[x])\n",
    "rating_em_df.head(20)"
   ]
  },
  {
   "cell_type": "code",
   "execution_count": 38,
   "metadata": {},
   "outputs": [
    {
     "data": {
      "text/plain": [
       "26"
      ]
     },
     "execution_count": 38,
     "metadata": {},
     "output_type": "execute_result"
    }
   ],
   "source": [
    "intersection_em = rating_em_df[rating_em_df['player_position'] <= 60]\n",
    "intersection_em.shape[0]\n"
   ]
  },
  {
   "cell_type": "markdown",
   "metadata": {},
   "source": [
    "Как было сказано,что появится много ноунеймов и один способов отранджировать является отфильтровать рейтинг по числу вопросов."
   ]
  },
  {
   "cell_type": "code",
   "execution_count": 47,
   "metadata": {},
   "outputs": [
    {
     "data": {
      "text/html": [
       "<div>\n",
       "<style scoped>\n",
       "    .dataframe tbody tr th:only-of-type {\n",
       "        vertical-align: middle;\n",
       "    }\n",
       "\n",
       "    .dataframe tbody tr th {\n",
       "        vertical-align: top;\n",
       "    }\n",
       "\n",
       "    .dataframe thead th {\n",
       "        text-align: right;\n",
       "    }\n",
       "</style>\n",
       "<table border=\"1\" class=\"dataframe\">\n",
       "  <thead>\n",
       "    <tr style=\"text-align: right;\">\n",
       "      <th></th>\n",
       "      <th>index</th>\n",
       "      <th>power</th>\n",
       "      <th>id</th>\n",
       "      <th>name</th>\n",
       "      <th>questions</th>\n",
       "      <th>player_position</th>\n",
       "    </tr>\n",
       "  </thead>\n",
       "  <tbody>\n",
       "    <tr>\n",
       "      <th>0</th>\n",
       "      <td>66</td>\n",
       "      <td>8.062972</td>\n",
       "      <td>27403</td>\n",
       "      <td>Максим Руссо</td>\n",
       "      <td>1796</td>\n",
       "      <td>5</td>\n",
       "    </tr>\n",
       "    <tr>\n",
       "      <th>1</th>\n",
       "      <td>68</td>\n",
       "      <td>7.989070</td>\n",
       "      <td>7008</td>\n",
       "      <td>Алексей Гилёв</td>\n",
       "      <td>3493</td>\n",
       "      <td>30</td>\n",
       "    </tr>\n",
       "    <tr>\n",
       "      <th>2</th>\n",
       "      <td>72</td>\n",
       "      <td>7.892351</td>\n",
       "      <td>30152</td>\n",
       "      <td>Артём Сорожкин</td>\n",
       "      <td>4006</td>\n",
       "      <td>1</td>\n",
       "    </tr>\n",
       "    <tr>\n",
       "      <th>3</th>\n",
       "      <td>86</td>\n",
       "      <td>7.641477</td>\n",
       "      <td>27822</td>\n",
       "      <td>Михаил Савченков</td>\n",
       "      <td>2666</td>\n",
       "      <td>2</td>\n",
       "    </tr>\n",
       "    <tr>\n",
       "      <th>4</th>\n",
       "      <td>95</td>\n",
       "      <td>7.508099</td>\n",
       "      <td>4270</td>\n",
       "      <td>Александра Брутер</td>\n",
       "      <td>2240</td>\n",
       "      <td>6</td>\n",
       "    </tr>\n",
       "    <tr>\n",
       "      <th>5</th>\n",
       "      <td>96</td>\n",
       "      <td>7.486941</td>\n",
       "      <td>28751</td>\n",
       "      <td>Иван Семушин</td>\n",
       "      <td>3071</td>\n",
       "      <td>3</td>\n",
       "    </tr>\n",
       "    <tr>\n",
       "      <th>6</th>\n",
       "      <td>97</td>\n",
       "      <td>7.478501</td>\n",
       "      <td>18332</td>\n",
       "      <td>Александр Либер</td>\n",
       "      <td>2937</td>\n",
       "      <td>7</td>\n",
       "    </tr>\n",
       "    <tr>\n",
       "      <th>7</th>\n",
       "      <td>119</td>\n",
       "      <td>7.167792</td>\n",
       "      <td>16837</td>\n",
       "      <td>Наталья Кудряшова</td>\n",
       "      <td>2147</td>\n",
       "      <td>23</td>\n",
       "    </tr>\n",
       "    <tr>\n",
       "      <th>8</th>\n",
       "      <td>120</td>\n",
       "      <td>7.156876</td>\n",
       "      <td>30270</td>\n",
       "      <td>Сергей Спешков</td>\n",
       "      <td>3017</td>\n",
       "      <td>4</td>\n",
       "    </tr>\n",
       "    <tr>\n",
       "      <th>9</th>\n",
       "      <td>123</td>\n",
       "      <td>7.122145</td>\n",
       "      <td>6212</td>\n",
       "      <td>Юрий Выменец</td>\n",
       "      <td>2644</td>\n",
       "      <td>12</td>\n",
       "    </tr>\n",
       "    <tr>\n",
       "      <th>10</th>\n",
       "      <td>127</td>\n",
       "      <td>7.075619</td>\n",
       "      <td>19915</td>\n",
       "      <td>Александр Марков</td>\n",
       "      <td>2473</td>\n",
       "      <td>51</td>\n",
       "    </tr>\n",
       "    <tr>\n",
       "      <th>11</th>\n",
       "      <td>143</td>\n",
       "      <td>6.969557</td>\n",
       "      <td>23737</td>\n",
       "      <td>Андрей Островский</td>\n",
       "      <td>2088</td>\n",
       "      <td>16</td>\n",
       "    </tr>\n",
       "    <tr>\n",
       "      <th>12</th>\n",
       "      <td>150</td>\n",
       "      <td>6.931298</td>\n",
       "      <td>56647</td>\n",
       "      <td>Наталья Горелова</td>\n",
       "      <td>1769</td>\n",
       "      <td>349</td>\n",
       "    </tr>\n",
       "    <tr>\n",
       "      <th>13</th>\n",
       "      <td>172</td>\n",
       "      <td>6.736985</td>\n",
       "      <td>14786</td>\n",
       "      <td>Николай Коврижных</td>\n",
       "      <td>2612</td>\n",
       "      <td>104</td>\n",
       "    </tr>\n",
       "    <tr>\n",
       "      <th>14</th>\n",
       "      <td>183</td>\n",
       "      <td>6.696085</td>\n",
       "      <td>35124</td>\n",
       "      <td>Алексей Чирков</td>\n",
       "      <td>2027</td>\n",
       "      <td>113</td>\n",
       "    </tr>\n",
       "    <tr>\n",
       "      <th>15</th>\n",
       "      <td>186</td>\n",
       "      <td>6.668764</td>\n",
       "      <td>74382</td>\n",
       "      <td>Михаил Новосёлов</td>\n",
       "      <td>2440</td>\n",
       "      <td>50</td>\n",
       "    </tr>\n",
       "    <tr>\n",
       "      <th>16</th>\n",
       "      <td>189</td>\n",
       "      <td>6.634910</td>\n",
       "      <td>31184</td>\n",
       "      <td>Эльман Талыбов</td>\n",
       "      <td>1676</td>\n",
       "      <td>55</td>\n",
       "    </tr>\n",
       "    <tr>\n",
       "      <th>17</th>\n",
       "      <td>206</td>\n",
       "      <td>6.529256</td>\n",
       "      <td>96330</td>\n",
       "      <td>Наталья Комар</td>\n",
       "      <td>3726</td>\n",
       "      <td>70</td>\n",
       "    </tr>\n",
       "    <tr>\n",
       "      <th>18</th>\n",
       "      <td>210</td>\n",
       "      <td>6.513338</td>\n",
       "      <td>70750</td>\n",
       "      <td>Денис Галиакберов</td>\n",
       "      <td>2107</td>\n",
       "      <td>96</td>\n",
       "    </tr>\n",
       "    <tr>\n",
       "      <th>19</th>\n",
       "      <td>215</td>\n",
       "      <td>6.479154</td>\n",
       "      <td>36035</td>\n",
       "      <td>Алексей Шередега</td>\n",
       "      <td>1596</td>\n",
       "      <td>54</td>\n",
       "    </tr>\n",
       "  </tbody>\n",
       "</table>\n",
       "</div>"
      ],
      "text/plain": [
       "    index     power     id               name  questions  player_position\n",
       "0      66  8.062972  27403       Максим Руссо       1796                5\n",
       "1      68  7.989070   7008      Алексей Гилёв       3493               30\n",
       "2      72  7.892351  30152     Артём Сорожкин       4006                1\n",
       "3      86  7.641477  27822   Михаил Савченков       2666                2\n",
       "4      95  7.508099   4270  Александра Брутер       2240                6\n",
       "5      96  7.486941  28751       Иван Семушин       3071                3\n",
       "6      97  7.478501  18332    Александр Либер       2937                7\n",
       "7     119  7.167792  16837  Наталья Кудряшова       2147               23\n",
       "8     120  7.156876  30270     Сергей Спешков       3017                4\n",
       "9     123  7.122145   6212       Юрий Выменец       2644               12\n",
       "10    127  7.075619  19915   Александр Марков       2473               51\n",
       "11    143  6.969557  23737  Андрей Островский       2088               16\n",
       "12    150  6.931298  56647   Наталья Горелова       1769              349\n",
       "13    172  6.736985  14786  Николай Коврижных       2612              104\n",
       "14    183  6.696085  35124     Алексей Чирков       2027              113\n",
       "15    186  6.668764  74382   Михаил Новосёлов       2440               50\n",
       "16    189  6.634910  31184     Эльман Талыбов       1676               55\n",
       "17    206  6.529256  96330      Наталья Комар       3726               70\n",
       "18    210  6.513338  70750  Денис Галиакберов       2107               96\n",
       "19    215  6.479154  36035   Алексей Шередега       1596               54"
      ]
     },
     "execution_count": 47,
     "metadata": {},
     "output_type": "execute_result"
    }
   ],
   "source": [
    "rating_em_filtered_df = pd.DataFrame(rating_em)\n",
    "rating_em_filtered_df = rating_em_filtered_df[rating_em_filtered_df.questions > 1500][:60].reset_index()\n",
    "rating_em_filtered_df['player_position'] = rating_em_filtered_df['id'].apply(player_position)\n",
    "rating_em_filtered_df['questions'] = rating_em_filtered_df['id'].apply(lambda x: players_answers[x])\n",
    "rating_em_filtered_df.head(20)"
   ]
  },
  {
   "cell_type": "code",
   "execution_count": 48,
   "metadata": {},
   "outputs": [
    {
     "data": {
      "text/plain": [
       "32"
      ]
     },
     "execution_count": 48,
     "metadata": {},
     "output_type": "execute_result"
    }
   ],
   "source": [
    "intersection_em = rating_em_filtered_df[rating_em_filtered_df['player_position'] <= 60]\n",
    "intersection_em.shape[0]"
   ]
  },
  {
   "cell_type": "markdown",
   "metadata": {},
   "source": [
    "Метрики росли медленно для EM алгоритма, но  позволил улучшить рейтинг систему "
   ]
  },
  {
   "cell_type": "markdown",
   "metadata": {},
   "source": [
    "### 5 Quations rating\n",
    "_А что там с вопросами? Постройте “рейтинг-лист” турниров по сложности вопросов. Соответствует ли он интуиции (например, на чемпионате мира в целом должны быть сложные вопросы, а на турнирах для школьников — простые)? Если будет интересно: постройте топ сложных и простых вопросов со ссылками на конкретные записи в базе вопросов ЧГК (это чисто техническое дело, тут никакого ML нету)._\n"
   ]
  },
  {
   "cell_type": "markdown",
   "metadata": {},
   "source": [
    "Как мы определяли силу участников ЧГК через коэффициенты модели также поступим и с определением сложности вопросов questionsс учетом сдвига, когда начинаются вопросы в исходной матрице (players+questions)"
   ]
  },
  {
   "cell_type": "code",
   "execution_count": 58,
   "metadata": {},
   "outputs": [],
   "source": [
    "rating_tournament = dict()\n",
    "question_idx_from = 1 + len(player_to_index)\n",
    "rating_qutions = model.coef_[question_idx_from:]\n",
    "\n",
    "offset_questions = 0\n",
    "for tournament in train:\n",
    "    questions_in_tournament = len(tournament['teams'][0]['mask'])\n",
    "    \n",
    "    from_question_index = offset_questions\n",
    "    to_question_index = from_question_index + questions_in_tournament\n",
    "    offset_questions += questions_in_tournament\n",
    "    \n",
    "    rating_tournament[tournament['id']] = np.mean(rating_qutions[from_question_index: to_question_index])\n",
    "    \n",
    "rating_tournament = sorted(rating_tournament.items(), key=lambda x: x[1])\n",
    "\n",
    "tournament_rating_df = pd.DataFrame([t[0] for t in rating_tournament], columns=['id'])\n",
    "tournament_rating_df['name'] = tournament_rating_df['id'].apply(lambda x: tournaments[x]['name'])"
   ]
  },
  {
   "cell_type": "code",
   "execution_count": 62,
   "metadata": {},
   "outputs": [
    {
     "data": {
      "text/html": [
       "<div>\n",
       "<style scoped>\n",
       "    .dataframe tbody tr th:only-of-type {\n",
       "        vertical-align: middle;\n",
       "    }\n",
       "\n",
       "    .dataframe tbody tr th {\n",
       "        vertical-align: top;\n",
       "    }\n",
       "\n",
       "    .dataframe thead th {\n",
       "        text-align: right;\n",
       "    }\n",
       "</style>\n",
       "<table border=\"1\" class=\"dataframe\">\n",
       "  <thead>\n",
       "    <tr style=\"text-align: right;\">\n",
       "      <th></th>\n",
       "      <th>id</th>\n",
       "      <th>name</th>\n",
       "    </tr>\n",
       "  </thead>\n",
       "  <tbody>\n",
       "    <tr>\n",
       "      <th>0</th>\n",
       "      <td>6149</td>\n",
       "      <td>Чемпионат Санкт-Петербурга. Первая лига</td>\n",
       "    </tr>\n",
       "    <tr>\n",
       "      <th>1</th>\n",
       "      <td>5928</td>\n",
       "      <td>Угрюмый Ёрш</td>\n",
       "    </tr>\n",
       "    <tr>\n",
       "      <th>2</th>\n",
       "      <td>5942</td>\n",
       "      <td>Чемпионат Мира. Этап 2. Группа В</td>\n",
       "    </tr>\n",
       "    <tr>\n",
       "      <th>3</th>\n",
       "      <td>5159</td>\n",
       "      <td>Первенство правого полушария</td>\n",
       "    </tr>\n",
       "    <tr>\n",
       "      <th>4</th>\n",
       "      <td>5465</td>\n",
       "      <td>Чемпионат России</td>\n",
       "    </tr>\n",
       "    <tr>\n",
       "      <th>5</th>\n",
       "      <td>5941</td>\n",
       "      <td>Чемпионат Мира. Этап 2. Группа А</td>\n",
       "    </tr>\n",
       "    <tr>\n",
       "      <th>6</th>\n",
       "      <td>5946</td>\n",
       "      <td>Чемпионат Мира. Этап 3. Группа В</td>\n",
       "    </tr>\n",
       "    <tr>\n",
       "      <th>7</th>\n",
       "      <td>5083</td>\n",
       "      <td>Ускользающая сова</td>\n",
       "    </tr>\n",
       "    <tr>\n",
       "      <th>8</th>\n",
       "      <td>5693</td>\n",
       "      <td>Знание – Сила VI</td>\n",
       "    </tr>\n",
       "    <tr>\n",
       "      <th>9</th>\n",
       "      <td>5587</td>\n",
       "      <td>Записки охотника</td>\n",
       "    </tr>\n",
       "    <tr>\n",
       "      <th>10</th>\n",
       "      <td>5950</td>\n",
       "      <td>Чемпионат Мира. Финал. Группа С</td>\n",
       "    </tr>\n",
       "    <tr>\n",
       "      <th>11</th>\n",
       "      <td>5515</td>\n",
       "      <td>Чемпионат Минска. Лига А. Тур четвёртый</td>\n",
       "    </tr>\n",
       "    <tr>\n",
       "      <th>12</th>\n",
       "      <td>5943</td>\n",
       "      <td>Чемпионат Мира. Этап 2 Группа С</td>\n",
       "    </tr>\n",
       "    <tr>\n",
       "      <th>13</th>\n",
       "      <td>5421</td>\n",
       "      <td>Львов зимой. Адвокат</td>\n",
       "    </tr>\n",
       "    <tr>\n",
       "      <th>14</th>\n",
       "      <td>5930</td>\n",
       "      <td>Зеркало мемориала памяти Михаила Басса</td>\n",
       "    </tr>\n",
       "    <tr>\n",
       "      <th>15</th>\n",
       "      <td>6101</td>\n",
       "      <td>Воображаемый музей</td>\n",
       "    </tr>\n",
       "    <tr>\n",
       "      <th>16</th>\n",
       "      <td>5412</td>\n",
       "      <td>Серия Premier. Седьмая печать</td>\n",
       "    </tr>\n",
       "    <tr>\n",
       "      <th>17</th>\n",
       "      <td>5947</td>\n",
       "      <td>Чемпионат Мира. Этап 3. Группа С</td>\n",
       "    </tr>\n",
       "    <tr>\n",
       "      <th>18</th>\n",
       "      <td>6098</td>\n",
       "      <td>Чемпионат Минска. Лига А. Тур второй</td>\n",
       "    </tr>\n",
       "    <tr>\n",
       "      <th>19</th>\n",
       "      <td>5939</td>\n",
       "      <td>Чемпионат Мира. Этап 1. Группа В</td>\n",
       "    </tr>\n",
       "  </tbody>\n",
       "</table>\n",
       "</div>"
      ],
      "text/plain": [
       "      id                                     name\n",
       "0   6149  Чемпионат Санкт-Петербурга. Первая лига\n",
       "1   5928                              Угрюмый Ёрш\n",
       "2   5942         Чемпионат Мира. Этап 2. Группа В\n",
       "3   5159             Первенство правого полушария\n",
       "4   5465                         Чемпионат России\n",
       "5   5941         Чемпионат Мира. Этап 2. Группа А\n",
       "6   5946         Чемпионат Мира. Этап 3. Группа В\n",
       "7   5083                        Ускользающая сова\n",
       "8   5693                         Знание – Сила VI\n",
       "9   5587                         Записки охотника\n",
       "10  5950          Чемпионат Мира. Финал. Группа С\n",
       "11  5515  Чемпионат Минска. Лига А. Тур четвёртый\n",
       "12  5943          Чемпионат Мира. Этап 2 Группа С\n",
       "13  5421                     Львов зимой. Адвокат\n",
       "14  5930   Зеркало мемориала памяти Михаила Басса\n",
       "15  6101                       Воображаемый музей\n",
       "16  5412            Серия Premier. Седьмая печать\n",
       "17  5947         Чемпионат Мира. Этап 3. Группа С\n",
       "18  6098     Чемпионат Минска. Лига А. Тур второй\n",
       "19  5939         Чемпионат Мира. Этап 1. Группа В"
      ]
     },
     "execution_count": 62,
     "metadata": {},
     "output_type": "execute_result"
    }
   ],
   "source": [
    "tournament_rating_df.head(20)"
   ]
  },
  {
   "cell_type": "code",
   "execution_count": 61,
   "metadata": {},
   "outputs": [
    {
     "data": {
      "text/html": [
       "<div>\n",
       "<style scoped>\n",
       "    .dataframe tbody tr th:only-of-type {\n",
       "        vertical-align: middle;\n",
       "    }\n",
       "\n",
       "    .dataframe tbody tr th {\n",
       "        vertical-align: top;\n",
       "    }\n",
       "\n",
       "    .dataframe thead th {\n",
       "        text-align: right;\n",
       "    }\n",
       "</style>\n",
       "<table border=\"1\" class=\"dataframe\">\n",
       "  <thead>\n",
       "    <tr style=\"text-align: right;\">\n",
       "      <th></th>\n",
       "      <th>id</th>\n",
       "      <th>name</th>\n",
       "    </tr>\n",
       "  </thead>\n",
       "  <tbody>\n",
       "    <tr>\n",
       "      <th>584</th>\n",
       "      <td>5593</td>\n",
       "      <td>Межфакультетский кубок МГУ. Отбор №3</td>\n",
       "    </tr>\n",
       "    <tr>\n",
       "      <th>585</th>\n",
       "      <td>5697</td>\n",
       "      <td>Школьный Синхрон-lite. Выпуск 3.1</td>\n",
       "    </tr>\n",
       "    <tr>\n",
       "      <th>586</th>\n",
       "      <td>5313</td>\n",
       "      <td>(а)Синхрон-lite. Лига старта. Эпизод VI</td>\n",
       "    </tr>\n",
       "    <tr>\n",
       "      <th>587</th>\n",
       "      <td>5876</td>\n",
       "      <td>(А) Славянка без раздаток. 4 этап</td>\n",
       "    </tr>\n",
       "    <tr>\n",
       "      <th>588</th>\n",
       "      <td>5009</td>\n",
       "      <td>(а)Синхрон-lite. Лига старта. Эпизод III</td>\n",
       "    </tr>\n",
       "    <tr>\n",
       "      <th>589</th>\n",
       "      <td>5388</td>\n",
       "      <td>Олимпиада Приволжского федерального округа. Финал</td>\n",
       "    </tr>\n",
       "    <tr>\n",
       "      <th>590</th>\n",
       "      <td>5954</td>\n",
       "      <td>Школьная лига. II тур.</td>\n",
       "    </tr>\n",
       "    <tr>\n",
       "      <th>591</th>\n",
       "      <td>5936</td>\n",
       "      <td>Школьная лига. I тур.</td>\n",
       "    </tr>\n",
       "    <tr>\n",
       "      <th>592</th>\n",
       "      <td>5698</td>\n",
       "      <td>(а)Синхрон-lite. Лига старта. Эпизод VII</td>\n",
       "    </tr>\n",
       "    <tr>\n",
       "      <th>593</th>\n",
       "      <td>5702</td>\n",
       "      <td>(а)Синхрон-lite. Лига старта. Эпизод IX</td>\n",
       "    </tr>\n",
       "    <tr>\n",
       "      <th>594</th>\n",
       "      <td>5955</td>\n",
       "      <td>Школьная лига. III тур.</td>\n",
       "    </tr>\n",
       "    <tr>\n",
       "      <th>595</th>\n",
       "      <td>5636</td>\n",
       "      <td>Кубок Закарпатья</td>\n",
       "    </tr>\n",
       "    <tr>\n",
       "      <th>596</th>\n",
       "      <td>5012</td>\n",
       "      <td>Школьный Синхрон-lite. Выпуск 2.5</td>\n",
       "    </tr>\n",
       "    <tr>\n",
       "      <th>597</th>\n",
       "      <td>5013</td>\n",
       "      <td>(а)Синхрон-lite. Лига старта. Эпизод V</td>\n",
       "    </tr>\n",
       "    <tr>\n",
       "      <th>598</th>\n",
       "      <td>5601</td>\n",
       "      <td>Межфакультетский кубок МГУ. Отбор №4</td>\n",
       "    </tr>\n",
       "    <tr>\n",
       "      <th>599</th>\n",
       "      <td>6003</td>\n",
       "      <td>Второй тематический турнир имени Джоуи Триббиани</td>\n",
       "    </tr>\n",
       "    <tr>\n",
       "      <th>600</th>\n",
       "      <td>5457</td>\n",
       "      <td>Студенческий чемпионат Калининградской области</td>\n",
       "    </tr>\n",
       "    <tr>\n",
       "      <th>601</th>\n",
       "      <td>6102</td>\n",
       "      <td>One ring - async</td>\n",
       "    </tr>\n",
       "    <tr>\n",
       "      <th>602</th>\n",
       "      <td>5963</td>\n",
       "      <td>Асинхрон по South Park</td>\n",
       "    </tr>\n",
       "    <tr>\n",
       "      <th>603</th>\n",
       "      <td>5827</td>\n",
       "      <td>Шестой киевский марафон. Асинхрон</td>\n",
       "    </tr>\n",
       "  </tbody>\n",
       "</table>\n",
       "</div>"
      ],
      "text/plain": [
       "       id                                               name\n",
       "584  5593               Межфакультетский кубок МГУ. Отбор №3\n",
       "585  5697                  Школьный Синхрон-lite. Выпуск 3.1\n",
       "586  5313            (а)Синхрон-lite. Лига старта. Эпизод VI\n",
       "587  5876                  (А) Славянка без раздаток. 4 этап\n",
       "588  5009           (а)Синхрон-lite. Лига старта. Эпизод III\n",
       "589  5388  Олимпиада Приволжского федерального округа. Финал\n",
       "590  5954                             Школьная лига. II тур.\n",
       "591  5936                              Школьная лига. I тур.\n",
       "592  5698           (а)Синхрон-lite. Лига старта. Эпизод VII\n",
       "593  5702            (а)Синхрон-lite. Лига старта. Эпизод IX\n",
       "594  5955                            Школьная лига. III тур.\n",
       "595  5636                                   Кубок Закарпатья\n",
       "596  5012                  Школьный Синхрон-lite. Выпуск 2.5\n",
       "597  5013             (а)Синхрон-lite. Лига старта. Эпизод V\n",
       "598  5601               Межфакультетский кубок МГУ. Отбор №4\n",
       "599  6003   Второй тематический турнир имени Джоуи Триббиани\n",
       "600  5457     Студенческий чемпионат Калининградской области\n",
       "601  6102                                   One ring - async\n",
       "602  5963                             Асинхрон по South Park\n",
       "603  5827                  Шестой киевский марафон. Асинхрон"
      ]
     },
     "execution_count": 61,
     "metadata": {},
     "output_type": "execute_result"
    }
   ],
   "source": [
    "tournament_rating_df.tail(20)"
   ]
  },
  {
   "cell_type": "markdown",
   "metadata": {},
   "source": [
    "Как мы видем мы смогли отранджировать турниры по сложности вопросов и в топ по сложности вопросов попадают международные турниры ЧГК, а внизу списка региональнеы и школьные турниры."
   ]
  }
 ],
 "metadata": {
  "kernelspec": {
   "display_name": "alfa",
   "language": "python",
   "name": "alfa"
  },
  "language_info": {
   "codemirror_mode": {
    "name": "ipython",
    "version": 3
   },
   "file_extension": ".py",
   "mimetype": "text/x-python",
   "name": "python",
   "nbconvert_exporter": "python",
   "pygments_lexer": "ipython3",
   "version": "3.8.3"
  },
  "toc-showtags": false
 },
 "nbformat": 4,
 "nbformat_minor": 4
}
