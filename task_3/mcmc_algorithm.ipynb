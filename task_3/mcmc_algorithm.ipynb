{
 "cells": [
  {
   "cell_type": "markdown",
   "metadata": {},
   "source": [
    "### Продвинутое машинное обучение: \n",
    "### Домашнее задание 3\n",
    "\n",
    "Третье домашнее задание посвящено достаточно простой, но, надеюсь, интересной задаче, в которой потребуется творчески применить методы сэмплирования. Как и раньше, в качестве решения ожидается ссылка на jupyter-ноутбук на вашем github (или публичный, или с доступом для snikolenko); ссылку обязательно нужно прислать в виде сданного домашнего задания на портале Академии. Как всегда, любые комментарии, новые идеи и рассуждения на тему категорически приветствуются. \n",
    "В этом небольшом домашнем задании мы попробуем улучшить метод Шерлока Холмса.\n",
    "\n",
    "Пользовался он для этого так называемым частотным методом: смотрел, какие буквы чаще встречаются в зашифрованных текстах, и пытался подставить буквы в соответствии с частотной таблицей: E — самая частая и так далее.\n",
    "В этом задании мы будем разрабатывать более современный и продвинутый вариант такого частотного метода. В качестве корпусов текстов для подсчётов частот можете взять что угодно, но для удобства вот вам “Война и мир” по-русски и по-английски:\n",
    "\n"
   ]
  },
  {
   "cell_type": "markdown",
   "metadata": {},
   "source": [
    "### 1 Реализуйте базовый частотный метод по Шерлоку Холмсу:\n",
    "- подсчитайте частоты букв по корпусам (пунктуацию и капитализацию можно просто опустить, а вот пробелы лучше оставить);\n",
    "- возьмите какие-нибудь тестовые тексты (нужно взять по меньшей мере 2-3 предложения, иначе вряд ли сработает), зашифруйте их посредством случайной перестановки символов;\n",
    "- расшифруйте их таким частотным методом.\n"
   ]
  },
  {
   "cell_type": "code",
   "execution_count": 26,
   "metadata": {},
   "outputs": [],
   "source": [
    "from collections import Counter, defaultdict\n",
    "import re\n",
    "import random\n",
    "from copy import copy\n",
    "\n",
    "from collections import Counter\n",
    "import pandas as pd\n",
    "import numpy as np\n",
    "from nltk import everygrams\n",
    "from tqdm import tqdm\n",
    "from typing import List\n",
    "\n",
    "import matplotlib.pyplot as plt\n",
    "import warnings\n",
    "from multiprocessing import Pool\n",
    "from functools import reduce\n",
    "\n",
    "warnings.filterwarnings(\"ignore\")"
   ]
  },
  {
   "cell_type": "code",
   "execution_count": 27,
   "metadata": {},
   "outputs": [],
   "source": [
    "TOKENS = \"абвгдежзийклмнопрстуфхцчшщъыьэюя \"\n",
    "TOKENS_LIST = list(TOKENS)"
   ]
  },
  {
   "cell_type": "markdown",
   "metadata": {},
   "source": [
    "**В качестве основного корпуса будем использовать произведение \"Война и Мир\" , а для расшифровки будем использовать произведение \"Анна Каренина\"**"
   ]
  },
  {
   "cell_type": "code",
   "execution_count": 28,
   "metadata": {},
   "outputs": [],
   "source": [
    "data_path_anna_kerenina = \"./data/AnnaKarenina.txt\"\n",
    "data_path_war_and_piece = \"./data/WarAndPeace.txt\""
   ]
  },
  {
   "cell_type": "code",
   "execution_count": 29,
   "metadata": {},
   "outputs": [],
   "source": [
    "with open(data_path_anna_kerenina, \"r\") as f:\n",
    "    anna_kerenina_text = f.read().lower()\n",
    "    anna_kerenina_text_filtered = \"\".join(\n",
    "        [token for token in anna_kerenina_text if token.lower() in TOKENS_LIST]\n",
    "    )\n",
    "    anna_kerenina_counter = Counter(anna_kerenina_text_filtered)"
   ]
  },
  {
   "cell_type": "code",
   "execution_count": 30,
   "metadata": {},
   "outputs": [],
   "source": [
    "with open(data_path_war_and_piece, \"r\") as f:\n",
    "    war_and_piece_text = f.read().lower()\n",
    "    war_and_piece_text_filtered = \"\".join(\n",
    "        [token for token in war_and_piece_text if token.lower() in TOKENS_LIST]\n",
    "    )\n",
    "    war_and_piece_counter = Counter(war_and_piece_text_filtered)"
   ]
  },
  {
   "cell_type": "code",
   "execution_count": 31,
   "metadata": {},
   "outputs": [],
   "source": [
    "def count_letters(counter):\n",
    "    number = 0\n",
    "    for i in range(len(TOKENS_LIST)):\n",
    "        number += counter[TOKENS_LIST[i]]\n",
    "    return number\n",
    "\n",
    "\n",
    "def frequency(number, counter):\n",
    "    arr_frequency = []\n",
    "    for i in range(len(TOKENS_LIST)):\n",
    "        ratio = counter[TOKENS_LIST[i]] / number * 100\n",
    "        arr_frequency.append(ratio)\n",
    "    return arr_frequency\n",
    "\n",
    "\n",
    "def accuracy(text, decoded_text):\n",
    "    assert len(text) == len(decoded_text)\n",
    "    true_token = 0\n",
    "    for t1, t2 in zip(text, decoded_text):\n",
    "        true_token += int(t1 == t2)\n",
    "    return true_token / len(text)"
   ]
  },
  {
   "cell_type": "code",
   "execution_count": 32,
   "metadata": {},
   "outputs": [
    {
     "data": {
      "text/plain": [
       "<matplotlib.legend.Legend at 0x7ffa446ed430>"
      ]
     },
     "execution_count": 32,
     "metadata": {},
     "output_type": "execute_result"
    },
    {
     "data": {
      "image/png": "[encoded data removed]",
      "text/plain": [
       "<Figure size 1080x720 with 1 Axes>"
      ]
     },
     "metadata": {},
     "output_type": "display_data"
    }
   ],
   "source": [
    "count_anna_kerenina = count_letters(anna_kerenina_counter)\n",
    "count_war_and_piece = count_letters(war_and_piece_counter)\n",
    "\n",
    "fig, ax = plt.subplots()\n",
    "\n",
    "xs = range(len(TOKENS_LIST))\n",
    "\n",
    "ax.bar(\n",
    "    [x + 0.05 for x in xs],\n",
    "    frequency(count_war_and_piece, war_and_piece_counter),\n",
    "    width=0.1,\n",
    "    color=\"red\",\n",
    "    alpha=0.7,\n",
    "    label=\"War and Peace\",\n",
    "    zorder=2,\n",
    ")\n",
    "\n",
    "ax.bar(\n",
    "    [x + 0.15 for x in xs],\n",
    "    frequency(count_anna_kerenina, anna_kerenina_counter),\n",
    "    width=0.1,\n",
    "    color=\"blue\",\n",
    "    alpha=0.7,\n",
    "    label=\"Anna Karenina\",\n",
    "    zorder=2,\n",
    ")\n",
    "\n",
    "plt.xticks(xs, TOKENS_LIST)\n",
    "ax.set_facecolor(\"seashell\")\n",
    "fig.set_figwidth(15)\n",
    "fig.set_figheight(10)\n",
    "fig.set_facecolor(\"floralwhite\")\n",
    "plt.legend()"
   ]
  },
  {
   "cell_type": "markdown",
   "metadata": {},
   "source": [
    "**Мы видим, что частота появления токенов в двух произведениях примерно одинаковая и использование одного произведения для нахождения частотности токенов уместно**"
   ]
  },
  {
   "cell_type": "markdown",
   "metadata": {},
   "source": [
    "**Зашифруем отрывок из произведения Анна Каренина**"
   ]
  },
  {
   "cell_type": "code",
   "execution_count": 33,
   "metadata": {},
   "outputs": [],
   "source": [
    "def cipher(text):\n",
    "    original_tokens = TOKENS_LIST\n",
    "    encoded_tokens = np.random.choice(\n",
    "        original_tokens, replace=False, size=len(original_tokens)\n",
    "    )\n",
    "    encoder = dict()\n",
    "\n",
    "    for original_token, encoded_token in zip(original_tokens, encoded_tokens):\n",
    "        encoder[original_token] = encoded_token\n",
    "\n",
    "    encoded_text = \"\".join(\n",
    "        [encoder[token] if token in encoder else token for token in text]\n",
    "    )\n",
    "    return encoded_text"
   ]
  },
  {
   "cell_type": "code",
   "execution_count": 34,
   "metadata": {},
   "outputs": [
    {
     "data": {
      "text/plain": [
       "'анна каренина один из самых знаменитых романов льва толстого начинается ставшей афоризмом фразой все счастливые семьи похожи друг на друга каждая несчастливая семья несчастлива посвоему это книга о вечных ценностях о любви о вере о семье о человеческом достоинстве  лев толстойроман широкого дыханиячасть перваялев толстойанна каренинароман широкого дыханияанна каренина поразила современников вседневностью содержания необычайная свобода раскованность повествования удивительно сочетались в этом романе с цельностью художественного взгляда автора на жизнь он выступал здесь как художник и мыслитель и назначение искусства видел не в том чтобы неоспоримо разрешить вопрос а в том чтобы заставить любить жизнь в бесчисленных никогда не истощимых всех ее проявлениях  в е годы один маститый писатель повидимому гончаров сказал достоевскому это вещь неслыханная это вещь первая кто у нас из писателей может поравняться с этим а в европе  кто представит хоть чтонибудь подобное фм достоевский находил в новом романе толстого огромную психологическую разработку души человеческой страшную глубину и силу и главное небывалый доселе у нас реализм художественного изображениявремя подтвердило эту высокую оценку из статей и книг на всех языках мира посвященных анне карениной можно составить целую библиотеку я без колебаний назвал анну каренину величайшим социальным романом во всей мировой литературе  писал томас маннзначение романа толстого состоит не в эстетической ценности отдельных картин а в художественной завершенности целоговойну и мир толстой называл книгой о прошлом в начале  года он просил редактора журнала русский вестник мн каткова в оглавлении и даже в объявлении не называть его сочинение романом для меня это очень важно и потому очень прошу вас об этом   толстой мог бы обосновать свое определение жанра книга ссылкой на гегеля которого он внимательно перечитывал в годы работы над войной и миром гегель называл книгой эпические произведения связанные с целостным миром определенного народа и определенной эпохи книга или самобытная эпопея дает картину национального самосознания в нравственных устоях семейной жизни в общественных условиях состояния войны и мира курсив наш '"
      ]
     },
     "execution_count": 34,
     "metadata": {},
     "output_type": "execute_result"
    }
   ],
   "source": [
    "text = \"анна каренина один из самых знаменитых романов льва толстого начинается ставшей афоризмом фразой все счастливые семьи похожи друг на друга каждая несчастливая семья несчастлива посвоему это книга о вечных ценностях о любви о вере о семье о человеческом достоинстве  лев толстойроман широкого дыханиячасть перваялев толстойанна каренинароман широкого дыханияанна каренина поразила современников вседневностью содержания необычайная свобода раскованность повествования удивительно сочетались в этом романе с цельностью художественного взгляда автора на жизнь он выступал здесь как художник и мыслитель и назначение искусства видел не в том чтобы неоспоримо разрешить вопрос а в том чтобы заставить любить жизнь в бесчисленных никогда не истощимых всех ее проявлениях  в е годы один маститый писатель повидимому гончаров сказал достоевскому это вещь неслыханная это вещь первая кто у нас из писателей может поравняться с этим а в европе  кто представит хоть чтонибудь подобное фм достоевский находил в новом романе толстого огромную психологическую разработку души человеческой страшную глубину и силу и главное небывалый доселе у нас реализм художественного изображениявремя подтвердило эту высокую оценку из статей и книг на всех языках мира посвященных анне карениной можно составить целую библиотеку я без колебаний назвал анну каренину величайшим социальным романом во всей мировой литературе  писал томас маннзначение романа толстого состоит не в эстетической ценности отдельных картин а в художественной завершенности целоговойну и мир толстой называл книгой о прошлом в начале  года он просил редактора журнала русский вестник мн каткова в оглавлении и даже в объявлении не называть его сочинение романом для меня это очень важно и потому очень прошу вас об этом   толстой мог бы обосновать свое определение жанра книга ссылкой на гегеля которого он внимательно перечитывал в годы работы над войной и миром гегель называл книгой эпические произведения связанные с целостным миром определенного народа и определенной эпохи книга или самобытная эпопея дает картину национального самосознания в нравственных устоях семейной жизни в общественных условиях состояния войны и мира курсив наш \"\n",
    "text.lower()"
   ]
  },
  {
   "cell_type": "code",
   "execution_count": 35,
   "metadata": {},
   "outputs": [
    {
     "data": {
      "text/plain": [
       "'куукяиквфупукящепуяпыяакюмцяыукюфупнмцявщюкущчяхжчкянщханщзщяукьпукфнаэяанкчбфгякйщвпыющюяйвкыщгячафяаьканхпчмфяафюжпялщцщшпяеврзяукяеврзкяикшекэяуфаьканхпчкэяафюжэяуфаьканхпчкялщачщфюря нщяиупзкящячфьумцядфуущанэцящяхотчпящячфвфящяафюжфящяьфхщчфьфаищюяещанщпуанчфяяхфчянщханщгвщюкуябпвщищзщяемцкупэьканжялфвчкэхфчянщханщгкуукяиквфупуквщюкуябпвщищзщяемцкупэкуукяиквфупукялщвкыпхкяащчвфюфуупищчячафеуфчущанжояащефвшкупэяуфщтмькгукэяачщтщекявкаищчкуущанжялщчфанчщчкупэярепчпнфхжущяащьфнкхпажячя нщюявщюкуфяаядфхжущанжояцрещшфанчфуущзщячызхэекякчнщвкяукяшпыужящуячманрлкхяыефажяикияцрещшупияпяюмахпнфхжяпяукыукьфупфяпаираанчкячпефхяуфячянщюяьнщтмяуфщалщвпющявкывфбпнжячщлвщаякячянщюяьнщтмяыканкчпнжяхотпнжяшпыужячятфаьпахфуумцяупищзекяуфяпанщъпюмцячафцяффялвщэчхфупэцяячяфязщемящепуяюканпнмгялпакнфхжялщчпепющюрязщуьквщчяаикыкхяещанщфчаищюря нщячфъжяуфахмцкуукэя нщячфъжялфвчкэяинщяряукаяпыялпакнфхфгяющшфнялщвкчуэнжаэяая нпюякячяфчвщлфяяинщялвфеанкчпняцщнжяьнщуптрежялщещтущфяйюяещанщфчаипгяукцщепхячяущчщюявщюкуфянщханщзщящзвщюуроялапцщхщзпьфаироявкывктщниряербпяьфхщчфьфаищгяанвкбуроязхртпуряпяапхряпязхкчущфяуфтмчкхмгяещафхфяряукаявфкхпыюяцрещшфанчфуущзщяпыщтвкшфупэчвфюэялщенчфвепхщя нрячмащироящдфуиряпыяанкнфгяпяиупзяукячафцяэымикцяюпвкялщачэъфуумцякууфяиквфупущгяющшущяащанкчпнжядфхроятптхпщнфиряэятфыяищхфткупгяукычкхякууряиквфупурячфхпькгбпюяащдпкхжумюявщюкущюячщячафгяюпвщчщгяхпнфвкнрвфяялпакхянщюкаяюкууыукьфупфявщюкукянщханщзщяащанщпняуфячя анфнпьфаищгядфуущанпящнефхжумцяиквнпуякячяцрещшфанчфуущгяыкчфвбфуущанпядфхщзщчщгуряпяюпвянщханщгяукымчкхяиупзщгящялвщбхщюячяукькхфяязщекящуялвщапхявфекинщвкяшрвукхкяврааипгячфанупияюуяикнищчкячящзхкчхфуппяпяекшфячящтсэчхфуппяуфяукымчкнжяфзщяащьпуфупфявщюкущюяехэяюфуэя нщящьфужячкшущяпялщнщюрящьфужялвщбрячкаящтя нщюяяянщханщгяющзятмящтщаущчкнжяачщфящлвфефхфупфяшкувкяиупзкяаамхищгяукязфзфхэяищнщвщзщящуячупюкнфхжущялфвфьпнмчкхячязщемявктщнмяукеячщгущгяпяюпвщюязфзфхжяукымчкхяиупзщгя лпьфаипфялвщпычфефупэяачэыкуумфяаядфхщанумюяюпвщюящлвфефхфуущзщяуквщекяпящлвфефхфуущгя лщцпяиупзкяпхпяакющтмнукэя лщлфэяекфняиквнпуряукдпщукхжущзщяакющащыукупэячяувкчанчфуумцяранщэцяафюфгущгяшпыупячящтъфанчфуумцярахщчпэцяащанщэупэячщгумяпяюпвкяирвапчяукбя'"
      ]
     },
     "execution_count": 35,
     "metadata": {},
     "output_type": "execute_result"
    }
   ],
   "source": [
    "encoded_text = cipher(text.lower())\n",
    "encoded_text"
   ]
  },
  {
   "cell_type": "markdown",
   "metadata": {},
   "source": [
    "**Для дешифровки  воспользуемся произведением \"Война и Мир\", чтобы получить частотность токенов на русском языке**"
   ]
  },
  {
   "cell_type": "code",
   "execution_count": 36,
   "metadata": {},
   "outputs": [],
   "source": [
    "war_and_piece_counter_tokens = {\n",
    "    key: value for (key, value) in war_and_piece_counter.items() if key in TOKENS_LIST\n",
    "}\n",
    "war_and_piece_counter_tokens_sorted = sorted(\n",
    "    war_and_piece_counter_tokens.items(), key=lambda x: x[1], reverse=True\n",
    ")\n",
    "war_and_piece_counter_tokens_sorted = [\n",
    "    t[0] for t in war_and_piece_counter_tokens_sorted\n",
    "]"
   ]
  },
  {
   "cell_type": "code",
   "execution_count": 37,
   "metadata": {},
   "outputs": [],
   "source": [
    "def decrypt_text(encoded_text, decrypt_keys):\n",
    "    encoded_text_counter = Counter(encoded_text)\n",
    "    encoded_text_counter_tokens = {\n",
    "        key: value\n",
    "        for (key, value) in encoded_text_counter.items()\n",
    "        if key in TOKENS_LIST\n",
    "    }\n",
    "    encoded_text_counter_sorted = sorted(\n",
    "        encoded_text_counter_tokens.items(), key=lambda x: x[1], reverse=True\n",
    "    )\n",
    "    encoded_text_counter_sorted = [t[0] for t in encoded_text_counter_sorted]\n",
    "\n",
    "    if len(decrypt_keys) != len(encoded_text_counter_sorted):\n",
    "        raise Exception(\n",
    "            f\"len decrypt_keys [{len(decrypt_keys)}] and encoded_keys [{len(encoded_text_counter_sorted)}] has different size!\"\n",
    "        )\n",
    "\n",
    "    dictionary = dict(zip(encoded_text_counter_sorted, decrypt_keys))\n",
    "    decoded_tokens = []\n",
    "\n",
    "    for i in encoded_text:\n",
    "        decoded_tokens.append(dictionary.get(i, i))\n",
    "\n",
    "    decoded_text = \"\".join(decoded_tokens)\n",
    "\n",
    "    return decoded_text"
   ]
  },
  {
   "cell_type": "code",
   "execution_count": 38,
   "metadata": {},
   "outputs": [
    {
     "data": {
      "text/plain": [
       "'иааи дивеанаи омна нб тикпч баикеанспч вокиаол рьли сортсояо аийнаиестг тсилюез ифовнбкок фвибоз лте тйитсрнлпе текьн ыочошн мвуя аи мвуяи дишмиг аетйитсрнлиг текьг аетйитсрнли ыотлоеку хсо даняи о лейапч цеааотсгч о рэжлн о леве о текье о йеролейетдок мотсонатсле  рел сортсозвокиа юнводояо мпчиангйитсь ыевлигрел сортсозиааи дивеанаивокиа юнводояо мпчиангиааи дивеанаи ыовибнри толвекеаандол лтемаелаотсьэ томевшианг аеожпйизаиг тложоми витдолиааотсь ыолетслолианг умнлнсерьао тойесирнть л хсок вокиае т церьаотсьэ чумошетслеааояо лбяргми илсови аи шнбаь оа лптсуыир бметь дид чумошанд н кптрнсерь н аибаийеане нтдуттсли лнмер ае л сок йсожп аеотыовнко вибвеюнсь лоывот и л сок йсожп битсилнсь рэжнсь шнбаь л жетйнтреаапч андоями ае нтсощнкпч лтеч ее ывоглреангч  л е яомп омна китснспз ынтисерь ыолнмнкоку яоайивол тдибир мотсоелтдоку хсо лещь аетрпчиааиг хсо лещь ыевлиг дсо у аит нб ынтисерез кошес ыовилагсьтг т хснк и л елвоые  дсо ывемтсилнс чось йсоанжумь ыоможаое фк мотсоелтднз аичомнр л аолок вокиае сортсояо оявокауэ ытнчороянйетдуэ вибвижосду муюн йеролейетдоз тсвиюауэ яружнау н тнру н ярилаое аежплирпз мотере у аит веирнбк чумошетслеааояо нбожвишеанглвекг ыомслевмнро хсу лптодуэ оцеаду нб тсисез н даня аи лтеч гбпдич кнви ыотлгщеаапч иаае дивеанаоз кошао тотсилнсь церуэ жнжрноседу г жеб дорежианз аиблир иаау дивеанау лернйизюнк тоцнирьапк вокиаок ло лтез кнволоз рнсевисуве  ынтир сокит киаабаийеане вокиаи сортсояо тотсонс ае л хтсеснйетдоз цеааотсн осмерьапч дивсна и л чумошетслеааоз билевюеааотсн церояолозау н кнв сортсоз аибплир даняоз о ывоюрок л аийире  яоми оа ывотнр вемидсови шуваири вуттднз летсанд ка дисдоли л оярилреанн н мише л ожъглреанн ае аибплись еяо тойнаеане вокиаок мрг кеаг хсо ойеаь лишао н ыосоку ойеаь ывоюу лит ож хсок   сортсоз коя жп ожотаолись тлое оывемереане шиави даняи ттпрдоз аи яеяерг досовояо оа ланкисерьао ыевейнсплир л яомп вижосп аим лозаоз н кнвок яеяерь аибплир даняоз хынйетдне ывонблемеанг тлгбиаапе т церотсапк кнвок оывемереааояо аивоми н оывемереааоз хыочн даняи нрн тикожпсаиг хыоыег миес дивснау аицноаирьаояо тикотобаианг л авилтслеаапч утсогч текезаоз шнбан л ожщетслеаапч утролнгч тотсоганг лозап н кнви дувтнл аию '"
      ]
     },
     "execution_count": 38,
     "metadata": {},
     "output_type": "execute_result"
    }
   ],
   "source": [
    "decoded_text = decrypt_text(encoded_text, war_and_piece_counter_tokens_sorted)\n",
    "decoded_text"
   ]
  },
  {
   "cell_type": "code",
   "execution_count": 39,
   "metadata": {},
   "outputs": [
    {
     "data": {
      "text/plain": [
       "0.3561643835616438"
      ]
     },
     "execution_count": 39,
     "metadata": {},
     "output_type": "execute_result"
    }
   ],
   "source": [
    "accuracy(text.lower(), decoded_text)"
   ]
  },
  {
   "cell_type": "markdown",
   "metadata": {},
   "source": [
    "**Думал будет хуже, но все равно данный метод плох, когда зашифрованное сообщение маленькое и распределение частоты токенов совсем не совпадает с распределением подсчитанным на большом произведении.**"
   ]
  },
  {
   "cell_type": "markdown",
   "metadata": {},
   "source": [
    "### 2 Частоты биграмм \n",
    "Вряд ли в результате получилась такая уж хорошая расшифровка, разве что если вы брали в качестве тестовых данных целые рассказы. Но и Шерлок Холмс был не так уж прост: после буквы E, которая действительно выделяется частотой, дальше он анализировал уже конкретные слова и пытался угадать, какими они могли бы быть. Я не знаю, как запрограммировать такой интуитивный анализ, так что давайте просто сделаем следующий логический шаг:\n",
    "- подсчитайте частоты биграмм (т.е. пар последовательных букв) по корпусам;\n",
    "- проведите тестирование аналогично п.1, но при помощи биграмм.\n"
   ]
  },
  {
   "cell_type": "markdown",
   "metadata": {},
   "source": [
    "**Подсчитаем n-gram  для основного произведения \"Война и Мир\" и отсортируем по частотности токенов**"
   ]
  },
  {
   "cell_type": "code",
   "execution_count": 40,
   "metadata": {},
   "outputs": [],
   "source": [
    "n_gram = 2\n",
    "war_and_piece_text_n_gram = [\n",
    "    \"\".join(ngram)\n",
    "    for ngram in everygrams(war_and_piece_text_filtered, min_len=n_gram, max_len=n_gram)\n",
    "]\n",
    "war_and_piece_counter_tokens_sorted_n_gram = sorted(\n",
    "    Counter(war_and_piece_text_n_gram).items(), key=lambda x: x[1], reverse=True\n",
    ")\n",
    "war_and_piece_counter_tokens_sorted_n_gram = [\n",
    "    t[0] for t in war_and_piece_counter_tokens_sorted_n_gram\n",
    "]"
   ]
  },
  {
   "cell_type": "code",
   "execution_count": 41,
   "metadata": {},
   "outputs": [],
   "source": [
    "def decrypt_text_by_n_gram(encoded_text, decrypt_keys, n_gram=2):\n",
    "    encoded_text_n_gram = [\n",
    "        \"\".join(ngram)\n",
    "        for ngram in everygrams(encoded_text, min_len=n_gram, max_len=n_gram)\n",
    "    ]\n",
    "    encoded_text_counter_sorted = sorted(\n",
    "        Counter(encoded_text_n_gram).items(), key=lambda x: x[1], reverse=True\n",
    "    )\n",
    "    encoded_text_counter_sorted = [t[0] for t in encoded_text_counter_sorted]\n",
    "\n",
    "    decrypt_keys_short = decrypt_keys[: len(encoded_text_counter_sorted)]\n",
    "\n",
    "    if len(decrypt_keys_short) != len(encoded_text_counter_sorted):\n",
    "        raise Exception(\n",
    "            f\"len decrypt_keys [{len(decrypt_keys)}] and encoded_keys [{len(encoded_text_counter_sorted)}] has different size!\"\n",
    "        )\n",
    "\n",
    "    dictionary = dict(zip(encoded_text_counter_sorted, decrypt_keys_short))\n",
    "    decoded_tokens = []\n",
    "\n",
    "    prev_exist = False\n",
    "    prev_n_gram = \"  \"\n",
    "    for i in encoded_text_n_gram:\n",
    "        if prev_exist:\n",
    "            decoded_tokens.append(prev_n_gram[1])\n",
    "            prev_exist = False\n",
    "            if i in dictionary:\n",
    "                prev_exist = True\n",
    "                prev_n_gram = dictionary.get(i)\n",
    "        else:\n",
    "            if i in dictionary:\n",
    "                decoded_tokens.append(dictionary.get(i)[0])\n",
    "                prev_exist = True\n",
    "                prev_n_gram = dictionary.get(i)\n",
    "            else:\n",
    "                decoded_tokens.append(dictionary.get(i)[0])\n",
    "                prev_exist = False\n",
    "\n",
    "    decoded_text = \"\".join(decoded_tokens)\n",
    "\n",
    "    return decoded_text + \" \""
   ]
  },
  {
   "cell_type": "markdown",
   "metadata": {},
   "source": [
    "**Попробуем расшифровать загодированное сообщение**"
   ]
  },
  {
   "cell_type": "code",
   "execution_count": 42,
   "metadata": {},
   "outputs": [
    {
     "data": {
      "text/plain": [
       "' ил пол двси птнеиеамдоааыенвь аевсррен акаи тоитибпк зс  н  н еди доукво нгк э тусихмпскоиюреь   м ооиеч цдейзоо гафеоо уядеметвсн пметврполяйатвнитиеч цдебтво галвнитиеч цдебпооадгмгвлае  орссрпт  окш еняьвл а вкнт ияби ет  ойдот о гасот еа ттокатлркомза  аип еооии аок зс   иакаиехлыанрн  мпесискюеч иооййабтч аок зс   шил пол двси  акаиехлыанрн  мпесискуил пол двси пооиредихпоетрдгевлсжрто м  лиаз а икноенойннисквникьеченн тводгьинап рчлртбил а иооотот егтбискворее ру тм  оенаонсд ьо оае ко акаииооояь тм а икнолрзяет еовл н   оуувбаптгр ирпн плдмьжотые йа чдссрвыотьоолюшолрзяжсжшаеаыаядру тоаен еь еавсуоа луя  ебп  мо рнио ок коеш ьебникаиоихус  решдщлрио гв ааотп ок коеш ьебвыч нг риоиябгриолдмьжо озмтид я вл еннсжрннапниоа   тиуыен м шнуиоо аырж всккни оуои нпбтнеиеаач ыррх он аву тооот меусквли ыде атооллеысрмза  мамлрквлае   оагонитяпесил твае   оагооййабтвое  олн чоамдон аву  э асяеойооиргзжыияквооаеыуотп оуаравйоиое  о д н нг рйоуяиоеш ысллртооонзьь моиромза  мамлуч н еунеир он тгко акаииок зс  н  тнуаквсеноелпузтнцматлуен решрчияеулмахлееа ттокатлр  о трнысениуишгислаеолиилаеиухгз монисетбспх мза   оолн чо дбсдмпоолрзяет еовл н  амььзряевскррдгявоонфеойжеит аечл йаенуентзьвбуламдо нвуэ аеорсссн п м шнлсебленалырпооаддязвл ентилиоол двси   асяж  оеа нг риояь иензглудеяугуллвзмьдорз срисч н ехбсртилслол двсисл о дменелуооезврстм  о акаи ко г  м э алыатг  идруйрвчадоион асрк качоааилфь еавсуо акаи пк зс  н  оеа  арйнио оая уоыматлр  яьвл а ыетяно тм енол юыиетп оолрзяет еовл   выгойл вл а ыеяь тн тг нслаеалыяк зс    н еетбсрорсс   т о аищтко он еес оии наптыео аалир д аюе ирплгат схп тя луч  от усжшавеолвертбп отнухгж вссеаемаяео отьокрж вссенион еетбвиоуа  оендиивсуо акаи комавваевжвае  тнавжо бяж  аеооя квлтнавжоо аишл бчотьсае коиик зс    аснсзебтьиад тбвиоодгмотв д о  всуолниьрпорссрпо ытжр  н питат вворя иан  тые зсуаву тм  оййдкдрртбср ои нпб рчиярбн яя г н   аеалыакоитат тон еетбсрорсс   аннматлууоо аамхо овскводдсыил зооояь та у  оалыакотв д о  вл н  н  анапаетв д о  вл   ано жеорссрпаидеоаасьеяу твановйхвмадойол юыислн квеы стм н  оаасаель искв оньргм еовл еноя  ыкно геэн   лдмьсе отьшзт еовл енояятт ккноеа  ыюскв г н баеалырпоуаялеон н '"
      ]
     },
     "execution_count": 42,
     "metadata": {},
     "output_type": "execute_result"
    }
   ],
   "source": [
    "decoded_text_n_gram = decrypt_text_by_n_gram(\n",
    "    encoded_text, war_and_piece_counter_tokens_sorted_n_gram\n",
    ")\n",
    "decoded_text_n_gram"
   ]
  },
  {
   "cell_type": "code",
   "execution_count": 43,
   "metadata": {},
   "outputs": [
    {
     "data": {
      "text/plain": [
       "0.07671232876712329"
      ]
     },
     "execution_count": 43,
     "metadata": {},
     "output_type": "execute_result"
    }
   ],
   "source": [
    "accuracy(text.lower(), decoded_text_n_gram)"
   ]
  },
  {
   "cell_type": "markdown",
   "metadata": {},
   "source": [
    "**Очевидный результат т.к. кол-во токенов (биграмм) стало еще больше и если распределение для одного символа в маленьком сообщении было нерелевантным , то когда разделили на биграммы , то ситуация стала еще хуже.**"
   ]
  },
  {
   "cell_type": "markdown",
   "metadata": {},
   "source": [
    "### 3 MCMC-сэмплировании\n",
    "Но и это ещё не всё: биграммы скорее всего тоже далеко не всегда работают. Основная часть задания — в том, как можно их улучшить:\n",
    "- предложите метод обучения перестановки символов в этом задании, основанный на MCMC-сэмплировании, но по-прежнему работающий на основе статистики биграмм;\n",
    "- реализуйте и протестируйте его, убедитесь, что результаты улучшились.\n"
   ]
  },
  {
   "cell_type": "markdown",
   "metadata": {},
   "source": [
    "В качестве вдохновения мне помогли след. источники:\n",
    "- [Applications of MCMC for Cryptography and Optimization](https://towardsdatascience.com/applications-of-mcmc-for-cryptography-and-optimization-1f99222b7132)\n",
    "- [MCMC-сэмплинг для тех, кто учился, но ничего не понял](https://habr.com/en/company/wunderfund/blog/279545/)"
   ]
  },
  {
   "cell_type": "markdown",
   "metadata": {},
   "source": [
    "Алгоритм:\n",
    "- считаем p score для текста сисходным маппигом (p_current)\n",
    "- перестанавливаем произвольно два токена \n",
    "- пробуем рашифровать и считаем p score (p_proposal)\n",
    "- если p_proposal больше, чем p_current, полученная вероятность будет больше 1, и такое предложение мы, определённо, примем. Однако, если p_current больше чем p_proposal, скажем, в два раза, шанс перехода будет составлять уже 50%.\n",
    "\n",
    "- пробуем менять произвльно буквы n steps (steps) выбираем лучший результат \n",
    "\n",
    "Но т.к. это жадный алгоритм и можем забрести не туда, то делаем несколько итераций алгоритма\n",
    "\n",
    "\n"
   ]
  },
  {
   "cell_type": "code",
   "execution_count": 44,
   "metadata": {},
   "outputs": [],
   "source": [
    "def calculate_p_tokens(text, n_gram=2):\n",
    "    n_gram_size = len(set(text)) ** n_gram\n",
    "\n",
    "    n_grams = [\n",
    "        \"\".join(token) for token in everygrams(text, min_len=n_gram, max_len=n_gram)\n",
    "    ]\n",
    "\n",
    "    p_n_grams = {k: v / n_gram_size for k, v in Counter(n_grams).items()}\n",
    "\n",
    "    return p_n_grams"
   ]
  },
  {
   "cell_type": "code",
   "execution_count": 45,
   "metadata": {},
   "outputs": [],
   "source": [
    "def calculate_p_score(text, decoder, p_tokens, n_gram=2):\n",
    "    decoded_text = \"\".join([decoder.get(t, \" \") for t in text])\n",
    "\n",
    "    p_log = 0.0\n",
    "\n",
    "    for i in range(len(decoded_text) - n_gram):\n",
    "        token = decoded_text[i : i + n_gram]\n",
    "        p_log += np.log(p_tokens.get(token, 0.0001))\n",
    "\n",
    "    return p_log"
   ]
  },
  {
   "cell_type": "code",
   "execution_count": 46,
   "metadata": {},
   "outputs": [],
   "source": [
    "def mcmc_decoder(\n",
    "    encoded_text: str,\n",
    "    tokens_encoder: List[str],\n",
    "    tokens_decoder: List[str],\n",
    "    p_tokens,\n",
    "    iters=5,\n",
    "    steps=1500,\n",
    "    n_gram=2,\n",
    "):\n",
    "\n",
    "    p_prev = -float(\"inf\")\n",
    "    selected_encoder_decoder = dict()\n",
    "\n",
    "    for _ in range(iters):\n",
    "\n",
    "        current_token_decoder = tokens_decoder.copy()\n",
    "\n",
    "        decoder_encoder = dict()\n",
    "\n",
    "        for token_encoder, token_decoder in zip(\n",
    "            tokens_encoder, current_token_decoder[: len(tokens_encoder)]\n",
    "        ):\n",
    "            decoder_encoder[token_encoder] = token_decoder\n",
    "\n",
    "        p_current = calculate_p_score(\n",
    "            encoded_text, decoder_encoder, p_tokens, n_gram=n_gram\n",
    "        )\n",
    "\n",
    "        for _ in range(steps):\n",
    "            decoder_proposal = current_token_decoder.copy()\n",
    "\n",
    "            idx1, idx2 = np.random.choice(len(decoder_proposal), replace=False, size=2)\n",
    "\n",
    "            decoder_proposal[idx1], decoder_proposal[idx2] = (\n",
    "                decoder_proposal[idx2],\n",
    "                decoder_proposal[idx1],\n",
    "            )\n",
    "\n",
    "            decoder_encoder_proposal = dict()\n",
    "\n",
    "            for token_encoder, token_decoder in zip(\n",
    "                tokens_encoder, decoder_proposal[: len(tokens_encoder)]\n",
    "            ):\n",
    "                decoder_encoder_proposal[token_encoder] = token_decoder\n",
    "\n",
    "            p_proposal = calculate_p_score(\n",
    "                encoded_text, decoder_encoder_proposal, p_tokens, n_gram=n_gram\n",
    "            )\n",
    "\n",
    "            # если p_proposal больше, чем p_current, полученная вероятность будет больше 1, и такое предложение мы, определённо, примем.\n",
    "            # Однако, если p_current больше чем p_proposal, скажем, в два раза, шанс перехода будет составлять уже 50%:\n",
    "\n",
    "            accept = np.exp(p_proposal - p_current) > np.random.rand()\n",
    "\n",
    "            if accept:\n",
    "                current_token_decoder = decoder_proposal\n",
    "                p_current = p_proposal\n",
    "                decoder_encoder = decoder_encoder_proposal\n",
    "\n",
    "        if p_current > p_prev:\n",
    "            selected_encoder_decoder = decoder_encoder\n",
    "            p_prev = p_current\n",
    "\n",
    "    decoded_text = \"\".join([selected_encoder_decoder.get(t, \" \") for t in encoded_text])\n",
    "\n",
    "    return decoded_text, p_prev"
   ]
  },
  {
   "cell_type": "code",
   "execution_count": 47,
   "metadata": {},
   "outputs": [],
   "source": [
    "p_tokens = calculate_p_tokens(war_and_piece_text_filtered, n_gram=2)\n",
    "\n",
    "mcmc_decoded_text, _ = mcmc_decoder(\n",
    "    encoded_text=encoded_text,\n",
    "    tokens_encoder=TOKENS_LIST,\n",
    "    tokens_decoder=TOKENS_LIST,\n",
    "    p_tokens=p_tokens,\n",
    ")"
   ]
  },
  {
   "cell_type": "code",
   "execution_count": 48,
   "metadata": {},
   "outputs": [
    {
     "data": {
      "text/plain": [
       "'анна каренина обин из садых знаденитых роданов льва толстого начинаетсм ставщей аяориздод яразой все счастливые седьи похожи бруг на бруга кажбам несчастливам седьм несчастлива посвоеду это книга о вечных фенностмх о люцви о вере о седье о человеческод бостоинстве  лев толстойродан щирокого быханимчасть первамлев толстойанна каренинародан щирокого быханиманна каренина поразила совреденников всебневностью собержаним неоцычайнам своцоба раскованность повествованим убивительно сочетались в этод родане с фельностью хубожественного взглмба автора на жизнь он выступал збесь как хубожник и дыслитель и назначение искусства вибел не в тод чтоцы неоспоридо разрещить вопрос а в тод чтоцы заставить люцить жизнь в цесчисленных никогба не истошидых всех ее промвленимх  в е гобы обин даститый писатель повибидоду гончаров сказал бостоевскоду это вешь неслыханнам это вешь первам кто у нас из писателей дожет поравнмтьсм с этид а в европе  кто пребставит хоть чтоницубь побоцное яд бостоевский нахобил в новод родане толстого огродную психологическую разрацотку бущи человеческой стращную глуцину и силу и главное нецывалый боселе у нас реализд хубожественного изоцраженимвредм побтвербило эту высокую офенку из статей и книг на всех мзыках дира посвмшенных анне карениной дожно составить фелую цицлиотеку м цез колецаний назвал анну каренину величайщид софиальныд роданод во всей дировой литературе  писал тодас даннзначение родана толстого состоит не в эстетической фенности отбельных картин а в хубожественной заверщенности фелоговойну и дир толстой называл книгой о прощлод в начале  гоба он просил ребактора журнала русский вестник дн каткова в оглавлении и баже в оцъмвлении не называть его сочинение роданод блм денм это очень важно и потоду очень прощу вас оц этод   толстой дог цы оцосновать свое опребеление жанра книга ссылкой на гегелм которого он внидательно перечитывал в гобы рацоты наб войной и дирод гегель называл книгой эпические произвебеним свмзанные с фелостныд дирод опребеленного нароба и опребеленной эпохи книга или садоцытнам эпопем бает картину нафионального садосознаним в нравственных устомх седейной жизни в оцшественных условимх состомним войны и дира курсив нащ '"
      ]
     },
     "execution_count": 48,
     "metadata": {},
     "output_type": "execute_result"
    }
   ],
   "source": [
    "mcmc_decoded_text"
   ]
  },
  {
   "cell_type": "code",
   "execution_count": 49,
   "metadata": {},
   "outputs": [
    {
     "data": {
      "text/plain": [
       "0.9114155251141552"
      ]
     },
     "execution_count": 49,
     "metadata": {},
     "output_type": "execute_result"
    }
   ],
   "source": [
    "accuracy(text.lower(),mcmc_decoded_text)"
   ]
  },
  {
   "cell_type": "markdown",
   "metadata": {},
   "source": [
    "**Это невероятный результат, мы смогли раcшифровать закодированное сообщение с маленькой длиной**"
   ]
  },
  {
   "cell_type": "markdown",
   "metadata": {},
   "source": [
    "**Но интересно попробовать распараллелить алгоритм.  Для этой задачи использовал Pool, который задается параметром n_jobs**"
   ]
  },
  {
   "cell_type": "code",
   "execution_count": 50,
   "metadata": {},
   "outputs": [],
   "source": [
    "def mcmc_decoder_parallelize(\n",
    "    encoded_text: str,\n",
    "    tokens_encoder: List[str],\n",
    "    tokens_decoder: List[str],\n",
    "    p_tokens,\n",
    "    iters=5,\n",
    "    steps=4000,\n",
    "    n_gram=2,\n",
    "    n_jobs=4,\n",
    "):\n",
    "    with Pool(processes=n_jobs) as pool:\n",
    "        params = (\n",
    "            encoded_text,\n",
    "            tokens_encoder,\n",
    "            tokens_decoder,\n",
    "            p_tokens,\n",
    "            1,\n",
    "            steps,\n",
    "            n_gram,\n",
    "        )\n",
    "        reponse = pool.starmap(mcmc_decoder, [params] * iters)\n",
    "        reponse.sort(key=lambda tup: tup[1], reverse=True)\n",
    "        return reponse[0][0]"
   ]
  },
  {
   "cell_type": "code",
   "execution_count": 51,
   "metadata": {},
   "outputs": [],
   "source": [
    "mcmc_decoded_text_parallelize = mcmc_decoder_parallelize(\n",
    "    encoded_text=encoded_text,\n",
    "    tokens_encoder=TOKENS_LIST,\n",
    "    tokens_decoder=TOKENS_LIST,\n",
    "    p_tokens=p_tokens,\n",
    "    iters=10,\n",
    "    n_jobs=10,\n",
    ")"
   ]
  },
  {
   "cell_type": "code",
   "execution_count": 52,
   "metadata": {},
   "outputs": [
    {
     "data": {
      "text/plain": [
       "'анна каленина один из тамых знаменирых ломанов сьва рострого начинаертя травшей афолизмом флазой вте тчатрсивые темьи похожи длуг на длуга каждая нетчатрсивая темья нетчатрсива потвоему эро книга о вечных ценнотрях о сюбви о веле о темье о чесовечетком дотроинтрве  сев ростройломан шилокого дыханиячатрь пелваясев ростройанна калениналоман шилокого дыханияанна каленина полазиса товлеменников втедневнотрью тоделжания необычайная твобода латкованнотрь поветрвования удивиресьно точерасить в эром ломане т цесьнотрью художетрвенного взгсяда аврола на жизнь он вытрупас здеть как художник и мытсиресь и назначение иткуттрва видес не в ром чробы неотполимо лазлеширь воплот а в ром чробы затравирь сюбирь жизнь в бетчитсенных никогда не итрощимых втех ее плоявсениях  в е годы один матрирый питаресь повидимому гончалов тказас дотроевткому эро вещь нетсыханная эро вещь пелвая кро у нат из питаресей можер полавнярьтя т эрим а в евлопе  кро пледтравир хорь чронибудь подобное фм дотроевткий находис в новом ломане рострого огломную птихосогичеткую лазлаборку души чесовечеткой трлашную гсубину и тису и гсавное небывасый дотесе у нат леасизм художетрвенного изоблажениявлемя подрвелдисо эру вытокую оценку из трарей и книг на втех языках мила потвященных анне калениной можно тотравирь цесую бибсиореку я без косебаний назвас анну каленину весичайшим тоциасьным ломаном во втей миловой сиреларуле  питас ромат маннзначение ломана рострого тотроир не в этреричеткой ценнотри ордесьных калрин а в художетрвенной завелшеннотри цесоговойну и мил рострой называс книгой о плошсом в начасе  года он плотис ледакрола жулнаса лутткий ветрник мн каркова в огсавсении и даже в объявсении не называрь его точинение ломаном дся меня эро очень важно и порому очень плошу ват об эром   рострой мог бы оботноварь твое опледесение жанла книга ттыской на гегеся королого он внимаресьно пелечирывас в годы лаборы над войной и милом гегесь называс книгой эпичеткие плоизведения твязанные т цесотрным милом опледесенного налода и опледесенной эпохи книга иси тамобырная эпопея даер калрину национасьного тамотознания в нлавтрвенных утроях темейной жизни в общетрвенных утсовиях тотрояния войны и мила култив наш '"
      ]
     },
     "execution_count": 52,
     "metadata": {},
     "output_type": "execute_result"
    }
   ],
   "source": [
    "mcmc_decoded_text_parallelize"
   ]
  },
  {
   "cell_type": "markdown",
   "metadata": {},
   "source": [
    "### 4 Расшифруйте сообщение:\n",
    "←⇠⇒↟↹↷⇊↹↷↟↤↟↨←↹↝⇛⇯↳⇴⇒⇈↝⇊↾↹↟⇒↟↹⇷⇛⇞↨↟↹↝⇛⇯↳⇴⇒⇈↝⇊↾↹↨←⇌⇠↨↹⇙↹⇸↨⇛↙⇛↹⇠⇛⇛↲⇆←↝↟↞↹⇌⇛↨⇛⇯⇊↾↹⇒←↙⇌⇛↹⇷⇯⇛⇞↟↨⇴↨⇈↹⇠⇌⇛⇯←←↹↷⇠←↙⇛↹↷⇊↹↷⇠←↹⇠↤←⇒⇴⇒↟↹⇷⇯⇴↷↟⇒⇈↝⇛↹↟↹⇷⇛⇒⇙⇞↟↨←↹↳⇴⇌⇠↟↳⇴⇒⇈↝⇊↾↹↲⇴⇒⇒↹⇰⇴↹⇷⇛⇠⇒←↤↝←←↹⇞←↨↷←⇯↨⇛←↹⇰⇴↤⇴↝↟←↹⇌⇙⇯⇠⇴↹↘⇛↨↞↹⇌⇛↝←⇞↝⇛↹↞↹↝↟⇞←↙⇛↹↝←↹⇛↲←⇆⇴⇏"
   ]
  },
  {
   "cell_type": "code",
   "execution_count": 53,
   "metadata": {},
   "outputs": [
    {
     "data": {
      "text/plain": [
       "'←⇠⇒↟↹↷⇊↹↷↟↤↟↨←↹↝⇛⇯↳⇴⇒⇈↝⇊↾↹↟⇒↟↹⇷⇛⇞↨↟↹↝⇛⇯↳⇴⇒⇈↝⇊↾↹↨←⇌⇠↨↹⇙↹⇸↨⇛↙⇛↹⇠⇛⇛↲⇆←↝↟↞↹⇌⇛↨⇛⇯⇊↾↹⇒←↙⇌⇛↹⇷⇯⇛⇞↟↨⇴↨⇈↹⇠⇌⇛⇯←←↹↷⇠←↙⇛↹↷⇊↹↷⇠←↹⇠↤←⇒⇴⇒↟↹⇷⇯⇴↷↟⇒⇈↝⇛↹↟↹⇷⇛⇒⇙⇞↟↨←↹↳⇴⇌⇠↟↳⇴⇒⇈↝⇊↾↹↲⇴⇒⇒↹⇰⇴↹⇷⇛⇠⇒←↤↝←←↹⇞←↨↷←⇯↨⇛←↹⇰⇴↤⇴↝↟←↹⇌⇙⇯⇠⇴↹↘⇛↨↞↹⇌⇛↝←⇞↝⇛↹↞↹↝↟⇞←↙⇛↹↝←↹⇛↲←⇆⇴⇏'"
      ]
     },
     "execution_count": 53,
     "metadata": {},
     "output_type": "execute_result"
    }
   ],
   "source": [
    "strange_text = '←⇠⇒↟↹↷⇊↹↷↟↤↟↨←↹↝⇛⇯↳⇴⇒⇈↝⇊↾↹↟⇒↟↹⇷⇛⇞↨↟↹↝⇛⇯↳⇴⇒⇈↝⇊↾↹↨←⇌⇠↨↹⇙↹⇸↨⇛↙⇛↹⇠⇛⇛↲⇆←↝↟↞↹⇌⇛↨⇛⇯⇊↾↹⇒←↙⇌⇛↹⇷⇯⇛⇞↟↨⇴↨⇈↹⇠⇌⇛⇯←←↹↷⇠←↙⇛↹↷⇊↹↷⇠←↹⇠↤←⇒⇴⇒↟↹⇷⇯⇴↷↟⇒⇈↝⇛↹↟↹⇷⇛⇒⇙⇞↟↨←↹↳⇴⇌⇠↟↳⇴⇒⇈↝⇊↾↹↲⇴⇒⇒↹⇰⇴↹⇷⇛⇠⇒←↤↝←←↹⇞←↨↷←⇯↨⇛←↹⇰⇴↤⇴↝↟←↹⇌⇙⇯⇠⇴↹↘⇛↨↞↹⇌⇛↝←⇞↝⇛↹↞↹↝↟⇞←↙⇛↹↝←↹⇛↲←⇆⇴⇏'\n",
    "strange_text"
   ]
  },
  {
   "cell_type": "code",
   "execution_count": 54,
   "metadata": {},
   "outputs": [],
   "source": [
    "p_tokens = calculate_p_tokens(anna_kerenina_text_filtered, n_gram=2)\n",
    "\n",
    "\n",
    "mcmc_decoded_strange_text = mcmc_decoder(\n",
    "    strange_text,\n",
    "    tokens_encoder=list(set(strange_text)),\n",
    "    tokens_decoder=TOKENS_LIST,\n",
    "    p_tokens=p_tokens,\n",
    ")"
   ]
  },
  {
   "cell_type": "code",
   "execution_count": 55,
   "metadata": {},
   "outputs": [
    {
     "data": {
      "text/plain": [
       "'евли сы сишите норкальный или помти норкальный тедвт у чтого воозжения доторый легдо промитать вдорее свего сы све вшелали прасильно и полумите кадвикальный залл ба повлешнее метсертое башание дурва хотя донемно я нимего не озежащ'"
      ]
     },
     "execution_count": 55,
     "metadata": {},
     "output_type": "execute_result"
    }
   ],
   "source": [
    "mcmc_decoded_strange_text[0]"
   ]
  },
  {
   "cell_type": "markdown",
   "metadata": {},
   "source": [
    "**Дефолтные параметры mcmc алгоритма не позволили получить номальный результат. Необходимо увеличить число попыток и шагов** "
   ]
  },
  {
   "cell_type": "code",
   "execution_count": 56,
   "metadata": {},
   "outputs": [],
   "source": [
    "mcmc_decoded_strange_text = mcmc_decoder(\n",
    "    encoded_text=strange_text,\n",
    "    tokens_encoder=list(set(strange_text)),\n",
    "    tokens_decoder=TOKENS_LIST,\n",
    "    p_tokens=p_tokens,\n",
    "    iters=10,\n",
    "    steps=8000,\n",
    ")"
   ]
  },
  {
   "cell_type": "code",
   "execution_count": 57,
   "metadata": {},
   "outputs": [
    {
     "data": {
      "text/plain": [
       "'если вы вимите норкальный или почти норкальный тедст у этого сообщения доторый легдо прочитать сдорее всего вы все смелали правильно и получите кадсикальный балл за послемнее четвертое замание дурса хотя донечно я ничего не обещаъ'"
      ]
     },
     "execution_count": 57,
     "metadata": {},
     "output_type": "execute_result"
    }
   ],
   "source": [
    "mcmc_decoded_strange_text[0]"
   ]
  },
  {
   "cell_type": "markdown",
   "metadata": {},
   "source": [
    "**Уже лучше, но попробуем еще немного увеличить кол-во шагов и попыток**"
   ]
  },
  {
   "cell_type": "code",
   "execution_count": null,
   "metadata": {},
   "outputs": [],
   "source": [
    "mcmc_decoded_strange_text = mcmc_decoder(\n",
    "    encoded_text=strange_text,\n",
    "    tokens_encoder=list(set(strange_text)),\n",
    "    tokens_decoder=TOKENS_LIST,\n",
    "    p_tokens=p_tokens,\n",
    "    iters=20,\n",
    "    steps=20000,\n",
    ")"
   ]
  },
  {
   "cell_type": "code",
   "execution_count": null,
   "metadata": {},
   "outputs": [],
   "source": [
    "mcmc_decoded_strange_text[0]"
   ]
  },
  {
   "cell_type": "markdown",
   "metadata": {},
   "source": [
    "**Отлично ! получилось расшифровать загадочный текст**"
   ]
  }
 ],
 "metadata": {
  "kernelspec": {
   "display_name": "alfa",
   "language": "python",
   "name": "alfa"
  },
  "language_info": {
   "codemirror_mode": {
    "name": "ipython",
    "version": 3
   },
   "file_extension": ".py",
   "mimetype": "text/x-python",
   "name": "python",
   "nbconvert_exporter": "python",
   "pygments_lexer": "ipython3",
   "version": "3.8.3"
  }
 },
 "nbformat": 4,
 "nbformat_minor": 4
}
