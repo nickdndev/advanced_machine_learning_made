{
 "cells": [
  {
   "cell_type": "markdown",
   "metadata": {},
   "source": [
    "В этом задании мы будем разрабатывать более современный и продвинутый вариант такого частотного метода. В качестве корпусов текстов для подсчётов частот можете взять что угодно, но для удобства вот вам “Война и мир” по-русски и по-английски:\n"
   ]
  },
  {
   "cell_type": "markdown",
   "metadata": {},
   "source": [
    "### 1 Реализуйте базовый частотный метод по Шерлоку Холмсу:\n",
    "- подсчитайте частоты букв по корпусам (пунктуацию и капитализацию можно просто опустить, а вот пробелы лучше оставить);\n",
    "- возьмите какие-нибудь тестовые тексты (нужно взять по меньшей мере 2-3 предложения, иначе вряд ли сработает), зашифруйте их посредством случайной перестановки символов;\n",
    "- расшифруйте их таким частотным методом.\n"
   ]
  },
  {
   "cell_type": "code",
   "execution_count": 22,
   "metadata": {},
   "outputs": [],
   "source": [
    "from collections import Counter, defaultdict\n",
    "import re\n",
    "import random\n",
    "from copy import copy\n",
    "\n",
    "from collections import Counter\n",
    "import pandas as pd\n",
    "import numpy as np\n",
    "from nltk.tokenize import RegexpTokenizer\n",
    "from nltk import everygrams\n",
    "from tqdm import tqdm\n",
    "\n",
    "import matplotlib.pyplot as plt"
   ]
  },
  {
   "cell_type": "code",
   "execution_count": 16,
   "metadata": {},
   "outputs": [],
   "source": [
    "TOKENS = 'абвгдежзийклмнопрстуфхцчшщъыьэюя '\n",
    "TOKENS_LIST = list(TOKENS)"
   ]
  },
  {
   "cell_type": "code",
   "execution_count": 5,
   "metadata": {},
   "outputs": [],
   "source": [
    "data_anna_kerenina = './data/AnnaKarenina.txt'"
   ]
  },
  {
   "cell_type": "code",
   "execution_count": 10,
   "metadata": {},
   "outputs": [],
   "source": [
    "with open(data_anna_kerenina ,'r') as f:\n",
    "#     anna_kerenina_txt = f.readlines()\n",
    "      anna_kerenina_counter = Counter(f.read().lower())  "
   ]
  },
  {
   "cell_type": "code",
   "execution_count": 97,
   "metadata": {},
   "outputs": [],
   "source": [
    "def count_letters(counter):\n",
    "    number = 0\n",
    "    for i in range(len(TOKENS_LIST)):\n",
    "        number += counter[TOKENS_LIST[i]]\n",
    "    return number\n",
    "\n",
    "def frequency(number, counter):\n",
    "    arr_frequency = []\n",
    "    for i in range(len(TOKENS_LIST)):\n",
    "        ratio = counter[TOKENS_LIST[i]] / number * 100\n",
    "        arr_frequency.append(ratio)\n",
    "    return arr_frequency\n",
    "\n",
    "\n",
    "def plotting_diagram(frequency,label):\n",
    "    fig, ax = plt.subplots()\n",
    "\n",
    "    xs = range(len(TOKENS_LIST))\n",
    "\n",
    "    ax.bar([x + 0.15 for x in xs], frequency,\n",
    "           width=0.1, color='blue', alpha=0.7, label=label,\n",
    "           zorder=2)\n",
    "\n",
    "    plt.xticks(xs, TOKENS_LIST)\n",
    "    ax.set_facecolor('seashell')\n",
    "    fig.set_figwidth(15)\n",
    "    fig.set_figheight(10)\n",
    "    fig.set_facecolor('floralwhite')\n",
    "    plt.legend()\n",
    "    \n",
    "def accuracy(text, decoded_text):\n",
    "    assert len(text) == len(decoded_text)\n",
    "    true_token = 0\n",
    "    for t1, t2 in zip(text, decoded_text):\n",
    "        true_token += int(t1 == t2)\n",
    "    return true_token / len(text)"
   ]
  },
  {
   "cell_type": "code",
   "execution_count": 27,
   "metadata": {},
   "outputs": [
    {
     "data": {
      "image/png": "[encoded data removed]",
      "text/plain": [
       "<Figure size 1080x720 with 1 Axes>"
      ]
     },
     "metadata": {},
     "output_type": "display_data"
    }
   ],
   "source": [
    "count_anna_kerenina = count_letters(anna_kerenina_counter)\n",
    "lst_frequency = frequency(count_anna_kerenina,anna_kerenina_counter)\n",
    "plotting_diagram(lst_frequency,'Anna Karenina')"
   ]
  },
  {
   "cell_type": "code",
   "execution_count": 31,
   "metadata": {},
   "outputs": [
    {
     "data": {
      "text/plain": [
       "1698012"
      ]
     },
     "execution_count": 31,
     "metadata": {},
     "output_type": "execute_result"
    }
   ],
   "source": [
    "count_anna_kerenina"
   ]
  },
  {
   "cell_type": "code",
   "execution_count": 41,
   "metadata": {},
   "outputs": [],
   "source": [
    "def cipher(text):\n",
    "    original_tokens = TOKENS_LIST\n",
    "    encoded_tokens = np.random.choice(original_tokens, replace=False, size=len(original_tokens))\n",
    "    encoder = dict()\n",
    "    \n",
    "    for  original_token,  encoded_token in zip(original_tokens, encoded_tokens):\n",
    "        encoder[original_token] = encoded_token\n",
    "        \n",
    "    encoded_text = ''.join([encoder[token] if token in encoder else token for token in text])\n",
    "    return encoded_text           "
   ]
  },
  {
   "cell_type": "code",
   "execution_count": 112,
   "metadata": {},
   "outputs": [
    {
     "data": {
      "text/plain": [
       "'степан аркадьич не избирал ни направления, ни взглядов, а эти направления и взгляды сами приходили к нему, точно так же, как он не выбирал формы шляпы или сюртука, а брал те, которые носят. а иметь взгляды ему, жившему в известном обществе, при потребности некоторой деятельности мысли, развивающейся обыкновенно в лета зрелости, было так же необходимо, как иметь шляпу. если и была причина, почему он предпочитал либеральное направление консервативному, какого держались тоже многие из его круга, то это произошло не от того, чтоб он находил либеральное направление более разумным, но потому, что оно подходило ближе к его образу жизни. либеральная партия говорила, что в россии все скверно, и действительно, у степана аркадьича долгов было много, а денег решительно недоставало. либеральная партия говорила, что брак есть отжившее учреждение и что необходимо перестроить его, и действительно, семейная жизнь доставляла мало удовольствия степану аркадьичу и принуждала его лгать и притворяться, что было так противно его натуре. либеральная партия говорила, или, лучше, подразумевала, что религия есть только узда для варварской части населения, и действительно, степан аркадьич не мог вынести без боли в ногах даже короткого молебна и не мог понять, к чему все эти страшные и высокопарные слова о том свете, когда и на этом жить было бы очень весело. вместе с этим степану аркадьичу, любившему веселую шутку, было приятно иногда озадачить смирного человека тем, что если уже гордиться породой, то не следует останавливаться на рюрике и отрекаться от первого родоначальника – обезьяны. итак, либеральное направление сделалось привычкой степана аркадьича, и он любил свою газету, как сигару после обеда, за легкий туман, который она производила в его голове. он прочел руководящую статью, в которой объяснялось, что в наше время совершенно напрасно поднимается вопль о том, будто бы радикализм угрожает поглотить все консервативные элементы и будто бы правительство обязано принять меры для подавления революционной гидры, что, напротив, «по нашему мнению, опасность лежит не в мнимой революционной гидре, а в упорстве традиционности, тормозящей прогресс», и т. д. он прочел и другую статью, финансовую, в которой упоминалось о бентаме и милле и подпускались тонкие шпильки министерству. со свойственною ему быстротою соображения он понимал значение всякой шпильки: от кого и на кого и по какому случаю она была направлена, и это, как всегда, доставляло ему некоторое удовольствие. но сегодня удовольствие это отравлялось воспоминанием о советах матрены филимоновны и о том, что в доме так неблагополучно. он прочел и о том, что граф бейст, как слышно, проехал в висбаден[35], и о том, что нет более седых волос, и о продаже легкой кареты, и предложение молодой особы; но эти сведения не доставляли ему, как прежде, тихого иронического удовольствия.'"
      ]
     },
     "execution_count": 112,
     "metadata": {},
     "output_type": "execute_result"
    }
   ],
   "source": [
    "text  = 'Степан Аркадьич не избирал ни направления, ни взглядов, а эти направления и взгляды сами приходили к нему, точно так же, как он не выбирал формы шляпы или сюртука, а брал те, которые носят. А иметь взгляды ему, жившему в известном обществе, при потребности некоторой деятельности мысли, развивающейся обыкновенно в лета зрелости, было так же необходимо, как иметь шляпу. Если и была причина, почему он предпочитал либеральное направление консервативному, какого держались тоже многие из его круга, то это произошло не от того, чтоб он находил либеральное направление более разумным, но потому, что оно подходило ближе к его образу жизни. Либеральная партия говорила, что в России все скверно, и действительно, у Степана Аркадьича долгов было много, а денег решительно недоставало. Либеральная партия говорила, что брак есть отжившее учреждение и что необходимо перестроить его, и действительно, семейная жизнь доставляла мало удовольствия Степану Аркадьичу и принуждала его лгать и притворяться, что было так противно его натуре. Либеральная партия говорила, или, лучше, подразумевала, что религия есть только узда для варварской части населения, и действительно, Степан Аркадьич не мог вынести без боли в ногах даже короткого молебна и не мог понять, к чему все эти страшные и высокопарные слова о том свете, когда и на этом жить было бы очень весело. Вместе с этим Степану Аркадьичу, любившему веселую шутку, было приятно иногда озадачить смирного человека тем, что если уже гордиться породой, то не следует останавливаться на Рюрике и отрекаться от первого родоначальника – обезьяны. Итак, либеральное направление сделалось привычкой Степана Аркадьича, и он любил свою газету, как сигару после обеда, за легкий туман, который она производила в его голове. Он прочел руководящую статью, в которой объяснялось, что в наше время совершенно напрасно поднимается вопль о том, будто бы радикализм угрожает поглотить все консервативные элементы и будто бы правительство обязано принять меры для подавления революционной гидры, что, напротив, «по нашему мнению, опасность лежит не в мнимой революционной гидре, а в упорстве традиционности, тормозящей прогресс», и т. д. Он прочел и другую статью, финансовую, в которой упоминалось о Бентаме и Милле и подпускались тонкие шпильки министерству. Со свойственною ему быстротою соображения он понимал значение всякой шпильки: от кого и на кого и по какому случаю она была направлена, и это, как всегда, доставляло ему некоторое удовольствие. Но сегодня удовольствие это отравлялось воспоминанием о советах Матрены Филимоновны и о том, что в доме так неблагополучно. Он прочел и о том, что граф Бейст, как слышно, проехал в Висбаден[35], и о том, что нет более седых волос, и о продаже легкой кареты, и предложение молодой особы; но эти сведения не доставляли ему, как прежде, тихого иронического удовольствия.'\n",
    "text.lower()"
   ]
  },
  {
   "cell_type": "code",
   "execution_count": 113,
   "metadata": {},
   "outputs": [
    {
     "data": {
      "text/plain": [
       "'ягжчйбьйотйш зпьбжьзфлзойсьбзьбйчойрсжбзю,ьбзьрфисюшнр,ьйьдгзьбйчойрсжбзюьзьрфисюшвьяйэзьчозщншзсзьтьбжэх,ьгнпбньгйтьуж,ьтйтьнбьбжьрвлзойсьыноэвьцсючвьзсзьякогхтй,ьйьлойсьгж,ьтнгновжьбняюг.ьйьзэжг ьрфисюшвьжэх,ьузрцжэхьрьзфржягбнэьнлежягрж,ьчозьчнгожлбнягзьбжтнгнонмьшжюгжс бнягзьэвясз,ьойфрзрйкежмяюьнлвтбнржббньрьсжгйьфожснягз,ьлвсньгйтьужьбжнлщншзэн,ьтйтьзэжг ьцсючх.ьжясзьзьлвсйьчозпзбй,ьчнпжэхьнбьчожшчнпзгйсьсзлжойс бнжьбйчойрсжбзжьтнбяжорйгзрбнэх,ьтйтниньшжоуйсзя ьгнужьэбнизжьзфьжиньтохий,ьгньдгньчонзфнцсньбжьнгьгнин,ьпгнльнбьбйщншзсьсзлжойс бнжьбйчойрсжбзжьлнсжжьойфхэбвэ,ьбньчнгнэх,ьпгньнбньчншщншзсньлсзужьтьжиньнлойфхьузфбз.ьсзлжойс бйюьчйогзюьинрнозсй,ьпгньрьоняяззьряжьятржобн,ьзьшжмягрзгжс бн,ьхьягжчйбйьйотйш зпйьшнсинрьлвсньэбнин,ьйьшжбжиьожцзгжс бньбжшнягйрйсн.ьсзлжойс бйюьчйогзюьинрнозсй,ьпгньлойтьжяг ьнгузрцжжьхпожушжбзжьзьпгньбжнлщншзэньчжожягонзг ьжин,ьзьшжмягрзгжс бн,ьяжэжмбйюьузфб ьшнягйрсюсйьэйсньхшнрнс ягрзюьягжчйбхьйотйш зпхьзьчозбхушйсйьжиньсийг ьзьчозгрноюг яю,ьпгньлвсньгйтьчонгзрбньжиньбйгхож.ьсзлжойс бйюьчйогзюьинрнозсй,ьзсз,ьсхпцж,ьчншойфхэжрйсй,ьпгньожсзизюьжяг ьгнс тньхфшйьшсюьрйорйоятнмьпйягзьбйяжсжбзю,ьзьшжмягрзгжс бн,ьягжчйбьйотйш зпьбжьэниьрвбжягзьлжфьлнсзьрьбнийщьшйужьтнонгтниньэнсжлбйьзьбжьэниьчнбюг ,ьтьпжэхьряжьдгзьягойцбвжьзьрвянтнчйобвжьяснрйьньгнэьяржгж,ьтнишйьзьбйьдгнэьузг ьлвсньлвьнпжб ьржяжсн.ьрэжягжьяьдгзэьягжчйбхьйотйш зпх,ьсклзрцжэхьржяжсхкьцхгтх,ьлвсньчозюгбньзбнишйьнфйшйпзг ьяэзобниньпжснржтйьгжэ,ьпгньжясзьхужьиношзг яюьчноншнм,ьгньбжьясжшхжгьнягйбйрсзрйг яюьбйьокозтжьзьнгожтйг яюьнгьчжорниньоншнбйпйс бзтйь–ьнлжф юбв.ьзгйт,ьсзлжойс бнжьбйчойрсжбзжьяшжсйсня ьчозрвптнмьягжчйбйьйотйш зпй,ьзьнбьсклзсьярнкьийфжгх,ьтйтьязийохьчнясжьнлжшй,ьфйьсжитзмьгхэйб,ьтнгновмьнбйьчонзфрншзсйьрьжиньинснрж.ьнбьчонпжсьохтнрншюехкьягйг к,ьрьтнгнонмьнлаюябюсня ,ьпгньрьбйцжьрожэюьянржоцжббньбйчойябньчншбзэйжгяюьрнчс ьньгнэ,ьлхшгньлвьойшзтйсзфэьхионуйжгьчниснгзг ьряжьтнбяжорйгзрбвжьдсжэжбгвьзьлхшгньлвьчойрзгжс ягрньнлюфйбньчозбюг ьэжовьшсюьчншйрсжбзюьожрнскъзнббнмьизшов,ьпгн,ьбйчонгзр,ь«чньбйцжэхьэбжбзк,ьнчйябняг ьсжузгьбжьрьэбзэнмьожрнскъзнббнмьизшож,ьйьрьхчноягржьгойшзъзнббнягз,ьгноэнфюежмьчониожяя»,ьзьг.ьш.ьнбьчонпжсьзьшохихкьягйг к,ьызбйбянрхк,ьрьтнгнонмьхчнэзбйсня ьньлжбгйэжьзьэзссжьзьчншчхятйсзя ьгнбтзжьцчзс тзьэзбзягжоягрх.ьяньярнмягржббнкьжэхьлвягонгнкьяннлойужбзюьнбьчнбзэйсьфбйпжбзжьряютнмьцчзс тз:ьнгьтниньзьбйьтниньзьчньтйтнэхьясхпйкьнбйьлвсйьбйчойрсжбй,ьзьдгн,ьтйтьряжишй,ьшнягйрсюсньжэхьбжтнгнонжьхшнрнс ягрзж.ьбньяжиншбюьхшнрнс ягрзжьдгньнгойрсюсня ьрнячнэзбйбзжэьньянржгйщьэйгожбвьызсзэнбнрбвьзьньгнэ,ьпгньрьшнэжьгйтьбжлсйинчнсхпбн.ьнбьчонпжсьзьньгнэ,ьпгньиойыьлжмяг,ьтйтьясвцбн,ьчонжщйсьрьрзялйшжб[35],ьзьньгнэ,ьпгньбжгьлнсжжьяжшвщьрнсня,ьзьньчоншйужьсжитнмьтйожгв,ьзьчожшснужбзжьэнсншнмьнянлв;ьбньдгзьяржшжбзюьбжьшнягйрсюсзьжэх,ьтйтьчожушж,ьгзщниньзонбзпжятниньхшнрнс ягрзю.'"
      ]
     },
     "execution_count": 113,
     "metadata": {},
     "output_type": "execute_result"
    }
   ],
   "source": [
    "encoded_text = cipher(text.lower())\n",
    "encoded_text"
   ]
  },
  {
   "cell_type": "code",
   "execution_count": 114,
   "metadata": {},
   "outputs": [],
   "source": [
    "anna_kerenina_counter_tokens = { key:value for (key,value) in anna_kerenina_counter.items() if key in TOKENS_LIST}\n",
    "anna_kerenina_counter_tokens_sorted = sorted(anna_kerenina_counter_tokens.items(), key=lambda x: x[1], reverse=True)"
   ]
  },
  {
   "cell_type": "code",
   "execution_count": 120,
   "metadata": {},
   "outputs": [],
   "source": [
    "def  decrypt_text(encoded_text,decrypt_keys):\n",
    "    encoded_text_counter = Counter(encoded_text)  \n",
    "    encoded_text_counter_tokens = { key:value for (key,value) in encoded_text_counter.items() if key in TOKENS_LIST}\n",
    "    encoded_text_counter_sorted = dict(sorted(encoded_text_counter_tokens.items(), key=lambda x: x[1], reverse=True))\n",
    "    \n",
    "    if len(decrypt_keys) != len(encoded_text_counter_sorted):\n",
    "        raise Exception(f'len decrypt_keys [{len(decrypt_keys)}] and encoded_keys [{len(encoded_text_counter_sorted)}] has different size!')\n",
    "        \n",
    "    dictionary = dict(zip(encoded_text_counter_sorted.keys(),decrypt_keys.keys()))\n",
    "    decoded_tokens = []\n",
    "    \n",
    "    for i in encoded_text:\n",
    "        decoded_tokens.append(dictionary.get(i,i))\n",
    "        \n",
    "    decoded_text = ''.join(decoded_tokens)\n",
    "    \n",
    "    return decoded_text"
   ]
  },
  {
   "cell_type": "code",
   "execution_count": 121,
   "metadata": {},
   "outputs": [
    {
     "data": {
      "text/plain": [
       "'виеднт нлмнкяаб те азыалнс та тндлнрсетаг, та рзьсгкор, н эиа тндлнрсетаг а рзьсгкч внуа длаюокаса м теуп, иобто инм йе, мнм от те рчыалнс щолуч хсгдч аса вшлипмн, н ылнс ие, моиолче товги. н ауеия рзьсгкч еуп, йархеуп р азревитоу оыцевире, дла доилеытовиа темоиолож кегиесятовиа учвса, лнзрарншцежвг оычмторетто р сеин злесовиа, ычсо инм йе теоыюокауо, мнм ауеия хсгдп. евса а ычсн длабатн, добеуп от длекдобаинс саыелнсятое тндлнрсетае мотвелрниартоуп, мнмоьо келйнсавя иойе утоьае аз еьо млпьн, ио эио длоазохсо те ои иоьо, биоы от тнюокас саыелнсятое тндлнрсетае ыосее лнзпутчу, то доиоуп, био ото докюокасо ысайе м еьо оылнзп йазта. саыелнсятнг днлиаг ьороласн, био р ловваа рве вмрелто, а кежвираиесято, п виеднтн нлмнкяабн косьор ычсо утоьо, н кетеь лехаиесято тековинрнсо. саыелнсятнг днлиаг ьороласн, био ылнм евия оийархее пблейкетае а био теоыюокауо делевилоаия еьо, а кежвираиесято, веуежтнг йазтя ковинрсгсн унсо пкоросявираг виеднтп нлмнкяабп а длатпйкнсн еьо сьния а длаиролгиявг, био ычсо инм длоиарто еьо тнипле. саыелнсятнг днлиаг ьороласн, аса, спбхе, доклнзпуернсн, био лесаьаг евия иосямо пзкн ксг рнлрнлвмож бнвиа тнвесетаг, а кежвираиесято, виеднт нлмнкяаб те уоь рчтевиа ыез ыоса р тоьню кнйе молоимоьо уосеытн а те уоь дотгия, м беуп рве эиа вилнхтче а рчвомоднлтче всорн о иоу вреие, моькн а тн эиоу йаия ычсо ыч обетя ревесо. руевие в эиау виеднтп нлмнкяабп, сшыархеуп ревеспш хпимп, ычсо длагито атоькн ознкнбаия вуалтоьо бесоремн иеу, био евса пйе ьолкаиявг долокож, ио те всекпеи овинтнрсарниявг тн лшламе а оилемниявг ои делроьо локотнбнсятамн – оыезягтч. аинм, саыелнсятое тндлнрсетае вкеснсовя дларчбмож виеднтн нлмнкяабн, а от сшыас врош ьнзеип, мнм ваьнлп довсе оыекн, зн сеьмаж ипунт, моиолчж отн длоазрокасн р еьо ьосоре. от длобес лпморокгцпш винияш, р моиолож оыъгвтгсовя, био р тнхе рлеуг ворелхетто тндлнвто доктаунеивг родся о иоу, ыпкио ыч лнкамнсазу пьлойнеи доьсоиаия рве мотвелрниартче эсеуетич а ыпкио ыч длнраиесявиро оыгзнто длатгия уелч ксг докнрсетаг леросшфаоттож ьаклч, био, тндлоиар, «до тнхеуп утеташ, однвтовия сейаи те р утауож леросшфаоттож ьакле, н р пдолвире илнкафаоттовиа, иолуозгцеж длоьлевв», а и. к. от длобес а клпьпш винияш, щатнтворпш, р моиолож пдоуатнсовя о ыетинуе а уассе а докдпвмнсавя иотмае хдасяма уатавиелвирп. во врожвиреттош еуп ычвилоиош вооылнйетаг от дотаунс зтнбетае рвгмож хдасяма: ои моьо а тн моьо а до мнмоуп вспбнш отн ычсн тндлнрсетн, а эио, мнм рвеькн, ковинрсгсо еуп темоиолое пкоросявирае. то веьоктг пкоросявирае эио оилнрсгсовя ровдоуатнтаеу о вореиню унилетч щасауотортч а о иоу, био р коуе инм теысньодоспбто. от длобес а о иоу, био ьлнщ ыежви, мнм всчхто, длоеюнс р равынкет[35], а о иоу, био теи ыосее векчю росов, а о длокнйе сеьмож мнлеич, а длексойетае уосокож овоыч; то эиа врекетаг те ковинрсгса еуп, мнм длейке, иаюоьо алотабевмоьо пкоросявираг.'"
      ]
     },
     "execution_count": 121,
     "metadata": {},
     "output_type": "execute_result"
    }
   ],
   "source": [
    "decoded_text = decrypt_text(encoded_text,dict(anna_kerenina_counter_tokens_sorted))\n",
    "decoded_text"
   ]
  },
  {
   "cell_type": "code",
   "execution_count": 122,
   "metadata": {},
   "outputs": [
    {
     "data": {
      "text/plain": [
       "0.36714636714636717"
      ]
     },
     "execution_count": 122,
     "metadata": {},
     "output_type": "execute_result"
    }
   ],
   "source": [
    "accuracy(text.lower(),decoded_text)"
   ]
  },
  {
   "cell_type": "code",
   "execution_count": null,
   "metadata": {},
   "outputs": [],
   "source": []
  }
 ],
 "metadata": {
  "kernelspec": {
   "display_name": "alfa",
   "language": "python",
   "name": "alfa"
  },
  "language_info": {
   "codemirror_mode": {
    "name": "ipython",
    "version": 3
   },
   "file_extension": ".py",
   "mimetype": "text/x-python",
   "name": "python",
   "nbconvert_exporter": "python",
   "pygments_lexer": "ipython3",
   "version": "3.8.3"
  }
 },
 "nbformat": 4,
 "nbformat_minor": 4
}
